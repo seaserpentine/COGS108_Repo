{
  "cells": [
    {
      "cell_type": "markdown",
      "metadata": {
        "id": "view-in-github",
        "colab_type": "text"
      },
      "source": [
        "<a href=\"https://colab.research.google.com/github/seaserpentine/COGS108_Repo/blob/main/Final_Project_Group125_SP25.ipynb\" target=\"_parent\"><img src=\"https://colab.research.google.com/assets/colab-badge.svg\" alt=\"Open In Colab\"/></a>"
      ]
    },
    {
      "cell_type": "markdown",
      "metadata": {
        "id": "QwhbmbHEZIbD"
      },
      "source": [
        "# COGS 108 - Final Project"
      ]
    },
    {
      "cell_type": "markdown",
      "metadata": {
        "id": "pO-s_LfIZIbD"
      },
      "source": [
        "# Names\n",
        "\n",
        "- Lynda Hasman\n",
        "- Ketan Jain\n",
        "- Lili Olah\n",
        "- Farhan Khan\n"
      ]
    },
    {
      "cell_type": "markdown",
      "source": [
        "# Final Project Video Link"
      ],
      "metadata": {
        "id": "Bn9AHAtkn9Vm"
      }
    },
    {
      "cell_type": "markdown",
      "source": [
        "https://youtu.be/KsrjwFJnIM0"
      ],
      "metadata": {
        "id": "yUcAFDMfoGjc"
      }
    },
    {
      "cell_type": "markdown",
      "source": [
        "# Abstract"
      ],
      "metadata": {
        "id": "H25ouhT_5_wN"
      }
    },
    {
      "cell_type": "markdown",
      "source": [
        "We did research on this because of the rise of the number of self-driving vehicles on the road. As their popularity rises, their saftey on the road is questioned and the safety of drivers on the road is put into jeopardy. This project looks into the impact of various factors on crash rates involving vehicles equipped with Automated Driving Systems (ADS) and Advanced Driver Assistance Systems (ADAS). Identifying correlations between factors and automation failures will allow us to understand the cars better and increase the saftey of drivers. We aim to identify patterns in crash types and determine whether certain makes or models are more frequently involved in collisions."
      ],
      "metadata": {
        "id": "KOM9dNZO6CGH"
      }
    },
    {
      "cell_type": "markdown",
      "metadata": {
        "id": "oQupKt6hZIbE"
      },
      "source": [
        "# Research Question"
      ]
    },
    {
      "cell_type": "markdown",
      "metadata": {
        "id": "JafpE640ZIbE"
      },
      "source": [
        "\n",
        "\n",
        "What factors (weather, traffic, traffic signage, time of day, driverless vehicle) most influence crash rates of vehicles with automated driving systems (ADS) or Level 2 advanced driver assistance systems (ADAS)? Is there a significant difference between crash factors of ADS and ADAS vehicles? Are there more injuries/deaths tied to ADS or ADAS crashes? What crash contact area is most common (rear ending, T-boning, frontal collision, etc)? What make of ADS/ADAS vehicle has the most crashes?"
      ]
    },
    {
      "cell_type": "markdown",
      "metadata": {
        "id": "kHPaSJG5ZIbE"
      },
      "source": [
        "## Background and Prior Work"
      ]
    },
    {
      "cell_type": "markdown",
      "source": [
        "Since the early 2000s, there have been prominent developments made in the emergence and improvement of autonomous vehicles, also known as self-driving cars. Although autonomous driving technology is still in a test phase, the global market for AVs increases by 16% every year. 94% of all car accidents are due to human error, and autonomous driving technology is projected to reduce accident rates by up to 34%. However, public opinion towards AV technology is still divided— 43% of Americans are uncomfortable inside a driverless vehicle, and 57% of consumers would not feel comfortable purchasing a vehicle with self-driving technology.<sup><a href=\"#fn1\" id=\"fn1ref\">1</a></sup>\n",
        "\n",
        "Vehicle automation is categorized into 6 levels, from Level 0 (momentary driver assistance) to Level 5 (full automation). Tesla’s Full Self-Driving technology, which is arguably the most well-known autonomous driving technology, can only be classified as Level 2 advanced driver assistance system (ADAS) technology, as the driver must still be at attention and ready to take over if the system fails. This study aims to compare the crash factors and crash rates between Level 2 ADAS technology and Level 4/5 automated driving system (ADS) technology, which is designed to navigate roads and traffic conditions with no human input, where occupants of the vehicle only act as passengers. The most popular and prominent ADS technology available to the public is Waymo, a driverless taxi service developed by Google and Jaguar. Lower level ADAS technology is much more common in modern vehicles— examples of ADAS technology at levels lower than full self-driving include lane departure warnings, lane keeping assist, automatic lane change, adaptive cruise control, automatic emergency braking, and blind spot detection.\n",
        "\n",
        "As vehicles with ADS and ADAS technology continue to be integrated into public roads, questions about safety, reliability, and liability have become more prominent as well. Many car accident law firms and injury attorneys have conducted studies on ADS and ADAS technologies, highlighting safety concerns.\n",
        "\n",
        "According to a study by the National Law Review, driverless ADS vehicles' rate of crashes per miles driven is over twice as high as those of vehicles with no ADS system. This study also highlighted the dangers of lithium ion battery combustion during accidents, as well as how imperfect ADS/ADAS technology paired with complex driving conditions such as poor weather and unpredictable drivers causes crashes. The National Law Review's study also found that the vast majority of accidents in ADAS vehicles were a result of driver inattention or inability to take over the ADS system due to inattention or distance from the controls.<sup><a href=\"#fn2\" id=\"fn2ref\">2</a></sup>\n",
        "\n",
        "A study conducted by KNR Law Firm highlighted that liability in AV collisions is complex due to many parties that could be at-fault— the driver (even during ADS/ADAS engagement), the manufacturer, the software developer, the hardware developer, and even outside parties. This study analyzed a dataset of 400 crashes in 2022, finding that 63% of total accidents involved Teslas, and that 83% of accidents including ADS vehicles reported no injuries. KNR found that most accidents were rear-end collisions.<sup><a href=\"#fn1\" id=\"fn1ref\">1</a></sup>\n",
        "\n",
        "A report by the California DMV further supports the pattern of an increase in autonomous vehicle crash rates as compared to non-autonomous vehicles. These reports not only reveal the frequency of incidents, but also detail the circumstances of crashes.<sup><a href=\"#fn3\" id=\"fn3ref\">3</a></sup>\n",
        "\n",
        "<hr>\n",
        "<ol>\n",
        "  <li id=\"fn1\">\n",
        "    <a href=\"https://www.knrlegal.com/car-accident-lawyer/self-driving-car-accident-statistics/\" target=\"_blank\">\n",
        "      Self-Driving Car Accident Statistics – KNR Legal\n",
        "    </a>\n",
        "    <a href=\"#fn1ref\">^</a>\n",
        "  </li>\n",
        "  <li id=\"fn2\">\n",
        "    <a href=\"https://natlawreview.com/article/dangers-driverless-cars\" target=\"_blank\">\n",
        "      The Dangers of Driverless Cars – National Law Review\n",
        "    </a>\n",
        "    <a href=\"#fn2ref\">^</a>\n",
        "  </li>\n",
        "  <li id=\"fn3\">\n",
        "    <a href=\"https://www.dmv.ca.gov/portal/vehicle-industry-services/autonomous-vehicles/autonomous-vehicle-collision-reports/\" target=\"_blank\">\n",
        "      Autonomous Vehicle Collision Reports – California DMV\n",
        "    </a>\n",
        "    <a href=\"#fn3ref\">^</a>\n",
        "  </li>\n",
        "</ol>\n"
      ],
      "metadata": {
        "id": "N3zFu4SVrbuJ"
      }
    },
    {
      "cell_type": "markdown",
      "metadata": {
        "id": "MY4IjMojZIbF"
      },
      "source": [
        "# Hypothesis\n"
      ]
    },
    {
      "cell_type": "markdown",
      "metadata": {
        "id": "aycfGegkZIbG"
      },
      "source": [
        "We believe that there will be more ADS and ADAS crashes in poor weather conditions over clear weather conditions. This is because the camera and radar monitoring systems used may not be as accurate in poor weather. Similarly, crashes are most likely to occur in the evening due to changes in ambient lights causing lower visibility, and to higher driver error such as exhaustion and inebriation. We also hypothesize that ADS crashes will be more severe and cause more injuries/deaths than ADAS crashes, as a lot of the ADS crash data includes driverless vehicles, and there is no driver who can step in to mitigate a crash. We hypothesize that rear ending and T-boning will be more common than frontal collisions because they can brake instantaneously in response to any stimulus—causing trailing human‐driven cars to rear‐end them—and a technical glitch might make them misread signals and take an incorrect turn, leading to more T-bone crashes than frontal collisions.\n",
        " We also hypothesize that Tesla vehicles will have the most collisions for both ADS and ADAS as those are the most common autonomous vehicle on the market."
      ]
    },
    {
      "cell_type": "markdown",
      "metadata": {
        "id": "t29M_6rZZIbG"
      },
      "source": [
        "# Data"
      ]
    },
    {
      "cell_type": "markdown",
      "metadata": {
        "id": "sYdIo-kZZIbG"
      },
      "source": [
        "\n",
        "- Dataset #1\n",
        "  - Dataset Name: ADS\n",
        "  - Link to the dataset: https://static.nhtsa.gov/odi/ffdd/sgo-2021-01/SGO-2021-01_Incident_Reports_ADS.csv\n",
        "  - Number of observations: 1975\n",
        "  - Number of variables: 137\n",
        "- Dataset #2 (if you have more than one!)\n",
        "  - Dataset Name: Level 2 ADAS\n",
        "  - Link to the dataset: https://static.nhtsa.gov/odi/ffdd/sgo-2021-01/SGO-2021-01_Incident_Reports_ADAS.csv\n",
        "  - Number of observations: 3690\n",
        "  - Number of variables: 137\n",
        "\n",
        "\n",
        "- Both datasets are almost identical with one containing information about cars using the type of assistive technology engaged during car crashes. We can pick out the variables and compare them as well as merge them if needed to check our hypothesis."
      ]
    },
    {
      "cell_type": "code",
      "source": [
        "import pandas as pd\n",
        "import matplotlib.pyplot as plt\n",
        "import numpy as np"
      ],
      "metadata": {
        "id": "bExKKjk5ijQt"
      },
      "execution_count": null,
      "outputs": []
    },
    {
      "cell_type": "markdown",
      "metadata": {
        "id": "9z_c86FdZIbG"
      },
      "source": [
        "## Incident Reports ADS Data Set 1\n",
        "Reading the csv file for ads and soring in `ads`\n",
        "\n",
        "Checking the `shape` and the `value_counts()` of necessary columns\n"
      ]
    },
    {
      "cell_type": "code",
      "execution_count": null,
      "metadata": {
        "id": "jYmziEnDZIbG",
        "colab": {
          "base_uri": "https://localhost:8080/",
          "height": 985
        },
        "outputId": "690aa078-771b-43f3-9958-58708056afa0"
      },
      "outputs": [
        {
          "output_type": "execute_result",
          "data": {
            "text/plain": [
              "     Report ID  Report Version Reporting Entity    Report Type  Report Month  \\\n",
              "0  30270-10276               1        Waymo LLC        Monthly           2.0   \n",
              "1  30270-10130               1        Waymo LLC        Monthly           2.0   \n",
              "2  30270-10274               1        Waymo LLC        Monthly           2.0   \n",
              "3  30270-10215               1        Waymo LLC        Monthly           2.0   \n",
              "4  30270-10216               1        Waymo LLC        Monthly           2.0   \n",
              "5  30270-10143               1        Waymo LLC        Monthly           2.0   \n",
              "6  30270-10142               1        Waymo LLC        Monthly           2.0   \n",
              "7  30270-10140               1        Waymo LLC        Monthly           2.0   \n",
              "8  30270-10182               2        Waymo LLC  10-Day Update           NaN   \n",
              "9  30270-10058               1        Waymo LLC        Monthly           2.0   \n",
              "\n",
              "   Report Year Report Submission Date          VIN VIN - Unknown  \\\n",
              "0       2025.0               MAR-2025  SADHW2S13M1                 \n",
              "1       2025.0               MAR-2025  SADHW2S13R1                 \n",
              "2       2025.0               MAR-2025  SADHW2S12R1                 \n",
              "3       2025.0               MAR-2025  SADHW2S15M1                 \n",
              "4       2025.0               MAR-2025  SADHW2S14R1                 \n",
              "5       2025.0               MAR-2025  SADHW2S10R1                 \n",
              "6       2025.0               MAR-2025  SADHW2S16R1                 \n",
              "7       2025.0               MAR-2025  SADHW2S15R1                 \n",
              "8          NaN               MAR-2025  SADHW2S1XR1                 \n",
              "9       2025.0               MAR-2025  SADHW2S13R1                 \n",
              "\n",
              "  Serial Number  ... Investigating Officer Name Inv. Officer Name - Unknown  \\\n",
              "0           NaN  ...                        NaN                               \n",
              "1           NaN  ...                        NaN                               \n",
              "2           NaN  ...                        NaN                               \n",
              "3           NaN  ...                        NaN                               \n",
              "4           NaN  ...                        NaN                               \n",
              "5           NaN  ...                        NaN                               \n",
              "6           NaN  ...                        NaN                               \n",
              "7           NaN  ...                        NaN                               \n",
              "8           NaN  ...                        NaN                               \n",
              "9           NaN  ...                        NaN                               \n",
              "\n",
              "  Investigating Officer Phone  Inv. Officer Phone - Unknown  \\\n",
              "0                         NaN                                 \n",
              "1                         NaN                                 \n",
              "2                         NaN                                 \n",
              "3                         NaN                                 \n",
              "4                         NaN                                 \n",
              "5                         NaN                                 \n",
              "6                         NaN                                 \n",
              "7                         NaN                                 \n",
              "8                         NaN                                 \n",
              "9                         NaN                                 \n",
              "\n",
              "  Investigating Officer Email Inv. Officer Email - Unknown  Within ODD?  \\\n",
              "0                         NaN                                       Yes   \n",
              "1                         NaN                                       Yes   \n",
              "2                         NaN                                       Yes   \n",
              "3                         NaN                                       Yes   \n",
              "4                         NaN                                       Yes   \n",
              "5                         NaN                                       Yes   \n",
              "6                         NaN                                       Yes   \n",
              "7                         NaN                                       Yes   \n",
              "8                         NaN                                       Yes   \n",
              "9                         NaN                                       Yes   \n",
              "\n",
              "  Within ODD? - CBI                                          Narrative  \\\n",
              "0                    On Sunday, February[XXX], 2025 at 8:48 AM PST,...   \n",
              "1                    On February [XXX], 2025 at 4:31 PM PT a Waymo ...   \n",
              "2                    On February [XXX], 2025 at 11:38 AM PST, a Way...   \n",
              "3                    On February [XXX], 2025 at 5:41 AM MST a Waymo...   \n",
              "4                    On February [XXX], 2025 at 5:20 PM PT a Waymo ...   \n",
              "5                    On February [XXX], 2025 at 12:23 AM PT a Waymo...   \n",
              "6                    On February [XXX], 2025 at 8:23 AM CST a Waymo...   \n",
              "7                    On February [XXX], 2025 at 9:34 AM MT a Waymo ...   \n",
              "8                    The content of this report is unchanged from t...   \n",
              "9                    On February [XXX], 2025 at 10:03 PM PT a Waymo...   \n",
              "\n",
              "  Narrative - CBI?  \n",
              "0              NaN  \n",
              "1              NaN  \n",
              "2              NaN  \n",
              "3              NaN  \n",
              "4              NaN  \n",
              "5              NaN  \n",
              "6              NaN  \n",
              "7              NaN  \n",
              "8              NaN  \n",
              "9              NaN  \n",
              "\n",
              "[10 rows x 137 columns]"
            ],
            "text/html": [
              "\n",
              "  <div id=\"df-197afeaa-003e-47d9-8fb6-f33e6f533cbf\" class=\"colab-df-container\">\n",
              "    <div>\n",
              "<style scoped>\n",
              "    .dataframe tbody tr th:only-of-type {\n",
              "        vertical-align: middle;\n",
              "    }\n",
              "\n",
              "    .dataframe tbody tr th {\n",
              "        vertical-align: top;\n",
              "    }\n",
              "\n",
              "    .dataframe thead th {\n",
              "        text-align: right;\n",
              "    }\n",
              "</style>\n",
              "<table border=\"1\" class=\"dataframe\">\n",
              "  <thead>\n",
              "    <tr style=\"text-align: right;\">\n",
              "      <th></th>\n",
              "      <th>Report ID</th>\n",
              "      <th>Report Version</th>\n",
              "      <th>Reporting Entity</th>\n",
              "      <th>Report Type</th>\n",
              "      <th>Report Month</th>\n",
              "      <th>Report Year</th>\n",
              "      <th>Report Submission Date</th>\n",
              "      <th>VIN</th>\n",
              "      <th>VIN - Unknown</th>\n",
              "      <th>Serial Number</th>\n",
              "      <th>...</th>\n",
              "      <th>Investigating Officer Name</th>\n",
              "      <th>Inv. Officer Name - Unknown</th>\n",
              "      <th>Investigating Officer Phone</th>\n",
              "      <th>Inv. Officer Phone - Unknown</th>\n",
              "      <th>Investigating Officer Email</th>\n",
              "      <th>Inv. Officer Email - Unknown</th>\n",
              "      <th>Within ODD?</th>\n",
              "      <th>Within ODD? - CBI</th>\n",
              "      <th>Narrative</th>\n",
              "      <th>Narrative - CBI?</th>\n",
              "    </tr>\n",
              "  </thead>\n",
              "  <tbody>\n",
              "    <tr>\n",
              "      <th>0</th>\n",
              "      <td>30270-10276</td>\n",
              "      <td>1</td>\n",
              "      <td>Waymo LLC</td>\n",
              "      <td>Monthly</td>\n",
              "      <td>2.0</td>\n",
              "      <td>2025.0</td>\n",
              "      <td>MAR-2025</td>\n",
              "      <td>SADHW2S13M1</td>\n",
              "      <td></td>\n",
              "      <td>NaN</td>\n",
              "      <td>...</td>\n",
              "      <td>NaN</td>\n",
              "      <td></td>\n",
              "      <td>NaN</td>\n",
              "      <td></td>\n",
              "      <td>NaN</td>\n",
              "      <td></td>\n",
              "      <td>Yes</td>\n",
              "      <td></td>\n",
              "      <td>On Sunday, February[XXX], 2025 at 8:48 AM PST,...</td>\n",
              "      <td>NaN</td>\n",
              "    </tr>\n",
              "    <tr>\n",
              "      <th>1</th>\n",
              "      <td>30270-10130</td>\n",
              "      <td>1</td>\n",
              "      <td>Waymo LLC</td>\n",
              "      <td>Monthly</td>\n",
              "      <td>2.0</td>\n",
              "      <td>2025.0</td>\n",
              "      <td>MAR-2025</td>\n",
              "      <td>SADHW2S13R1</td>\n",
              "      <td></td>\n",
              "      <td>NaN</td>\n",
              "      <td>...</td>\n",
              "      <td>NaN</td>\n",
              "      <td></td>\n",
              "      <td>NaN</td>\n",
              "      <td></td>\n",
              "      <td>NaN</td>\n",
              "      <td></td>\n",
              "      <td>Yes</td>\n",
              "      <td></td>\n",
              "      <td>On February [XXX], 2025 at 4:31 PM PT a Waymo ...</td>\n",
              "      <td>NaN</td>\n",
              "    </tr>\n",
              "    <tr>\n",
              "      <th>2</th>\n",
              "      <td>30270-10274</td>\n",
              "      <td>1</td>\n",
              "      <td>Waymo LLC</td>\n",
              "      <td>Monthly</td>\n",
              "      <td>2.0</td>\n",
              "      <td>2025.0</td>\n",
              "      <td>MAR-2025</td>\n",
              "      <td>SADHW2S12R1</td>\n",
              "      <td></td>\n",
              "      <td>NaN</td>\n",
              "      <td>...</td>\n",
              "      <td>NaN</td>\n",
              "      <td></td>\n",
              "      <td>NaN</td>\n",
              "      <td></td>\n",
              "      <td>NaN</td>\n",
              "      <td></td>\n",
              "      <td>Yes</td>\n",
              "      <td></td>\n",
              "      <td>On February [XXX], 2025 at 11:38 AM PST, a Way...</td>\n",
              "      <td>NaN</td>\n",
              "    </tr>\n",
              "    <tr>\n",
              "      <th>3</th>\n",
              "      <td>30270-10215</td>\n",
              "      <td>1</td>\n",
              "      <td>Waymo LLC</td>\n",
              "      <td>Monthly</td>\n",
              "      <td>2.0</td>\n",
              "      <td>2025.0</td>\n",
              "      <td>MAR-2025</td>\n",
              "      <td>SADHW2S15M1</td>\n",
              "      <td></td>\n",
              "      <td>NaN</td>\n",
              "      <td>...</td>\n",
              "      <td>NaN</td>\n",
              "      <td></td>\n",
              "      <td>NaN</td>\n",
              "      <td></td>\n",
              "      <td>NaN</td>\n",
              "      <td></td>\n",
              "      <td>Yes</td>\n",
              "      <td></td>\n",
              "      <td>On February [XXX], 2025 at 5:41 AM MST a Waymo...</td>\n",
              "      <td>NaN</td>\n",
              "    </tr>\n",
              "    <tr>\n",
              "      <th>4</th>\n",
              "      <td>30270-10216</td>\n",
              "      <td>1</td>\n",
              "      <td>Waymo LLC</td>\n",
              "      <td>Monthly</td>\n",
              "      <td>2.0</td>\n",
              "      <td>2025.0</td>\n",
              "      <td>MAR-2025</td>\n",
              "      <td>SADHW2S14R1</td>\n",
              "      <td></td>\n",
              "      <td>NaN</td>\n",
              "      <td>...</td>\n",
              "      <td>NaN</td>\n",
              "      <td></td>\n",
              "      <td>NaN</td>\n",
              "      <td></td>\n",
              "      <td>NaN</td>\n",
              "      <td></td>\n",
              "      <td>Yes</td>\n",
              "      <td></td>\n",
              "      <td>On February [XXX], 2025 at 5:20 PM PT a Waymo ...</td>\n",
              "      <td>NaN</td>\n",
              "    </tr>\n",
              "    <tr>\n",
              "      <th>5</th>\n",
              "      <td>30270-10143</td>\n",
              "      <td>1</td>\n",
              "      <td>Waymo LLC</td>\n",
              "      <td>Monthly</td>\n",
              "      <td>2.0</td>\n",
              "      <td>2025.0</td>\n",
              "      <td>MAR-2025</td>\n",
              "      <td>SADHW2S10R1</td>\n",
              "      <td></td>\n",
              "      <td>NaN</td>\n",
              "      <td>...</td>\n",
              "      <td>NaN</td>\n",
              "      <td></td>\n",
              "      <td>NaN</td>\n",
              "      <td></td>\n",
              "      <td>NaN</td>\n",
              "      <td></td>\n",
              "      <td>Yes</td>\n",
              "      <td></td>\n",
              "      <td>On February [XXX], 2025 at 12:23 AM PT a Waymo...</td>\n",
              "      <td>NaN</td>\n",
              "    </tr>\n",
              "    <tr>\n",
              "      <th>6</th>\n",
              "      <td>30270-10142</td>\n",
              "      <td>1</td>\n",
              "      <td>Waymo LLC</td>\n",
              "      <td>Monthly</td>\n",
              "      <td>2.0</td>\n",
              "      <td>2025.0</td>\n",
              "      <td>MAR-2025</td>\n",
              "      <td>SADHW2S16R1</td>\n",
              "      <td></td>\n",
              "      <td>NaN</td>\n",
              "      <td>...</td>\n",
              "      <td>NaN</td>\n",
              "      <td></td>\n",
              "      <td>NaN</td>\n",
              "      <td></td>\n",
              "      <td>NaN</td>\n",
              "      <td></td>\n",
              "      <td>Yes</td>\n",
              "      <td></td>\n",
              "      <td>On February [XXX], 2025 at 8:23 AM CST a Waymo...</td>\n",
              "      <td>NaN</td>\n",
              "    </tr>\n",
              "    <tr>\n",
              "      <th>7</th>\n",
              "      <td>30270-10140</td>\n",
              "      <td>1</td>\n",
              "      <td>Waymo LLC</td>\n",
              "      <td>Monthly</td>\n",
              "      <td>2.0</td>\n",
              "      <td>2025.0</td>\n",
              "      <td>MAR-2025</td>\n",
              "      <td>SADHW2S15R1</td>\n",
              "      <td></td>\n",
              "      <td>NaN</td>\n",
              "      <td>...</td>\n",
              "      <td>NaN</td>\n",
              "      <td></td>\n",
              "      <td>NaN</td>\n",
              "      <td></td>\n",
              "      <td>NaN</td>\n",
              "      <td></td>\n",
              "      <td>Yes</td>\n",
              "      <td></td>\n",
              "      <td>On February [XXX], 2025 at 9:34 AM MT a Waymo ...</td>\n",
              "      <td>NaN</td>\n",
              "    </tr>\n",
              "    <tr>\n",
              "      <th>8</th>\n",
              "      <td>30270-10182</td>\n",
              "      <td>2</td>\n",
              "      <td>Waymo LLC</td>\n",
              "      <td>10-Day Update</td>\n",
              "      <td>NaN</td>\n",
              "      <td>NaN</td>\n",
              "      <td>MAR-2025</td>\n",
              "      <td>SADHW2S1XR1</td>\n",
              "      <td></td>\n",
              "      <td>NaN</td>\n",
              "      <td>...</td>\n",
              "      <td>NaN</td>\n",
              "      <td></td>\n",
              "      <td>NaN</td>\n",
              "      <td></td>\n",
              "      <td>NaN</td>\n",
              "      <td></td>\n",
              "      <td>Yes</td>\n",
              "      <td></td>\n",
              "      <td>The content of this report is unchanged from t...</td>\n",
              "      <td>NaN</td>\n",
              "    </tr>\n",
              "    <tr>\n",
              "      <th>9</th>\n",
              "      <td>30270-10058</td>\n",
              "      <td>1</td>\n",
              "      <td>Waymo LLC</td>\n",
              "      <td>Monthly</td>\n",
              "      <td>2.0</td>\n",
              "      <td>2025.0</td>\n",
              "      <td>MAR-2025</td>\n",
              "      <td>SADHW2S13R1</td>\n",
              "      <td></td>\n",
              "      <td>NaN</td>\n",
              "      <td>...</td>\n",
              "      <td>NaN</td>\n",
              "      <td></td>\n",
              "      <td>NaN</td>\n",
              "      <td></td>\n",
              "      <td>NaN</td>\n",
              "      <td></td>\n",
              "      <td>Yes</td>\n",
              "      <td></td>\n",
              "      <td>On February [XXX], 2025 at 10:03 PM PT a Waymo...</td>\n",
              "      <td>NaN</td>\n",
              "    </tr>\n",
              "  </tbody>\n",
              "</table>\n",
              "<p>10 rows × 137 columns</p>\n",
              "</div>\n",
              "    <div class=\"colab-df-buttons\">\n",
              "\n",
              "  <div class=\"colab-df-container\">\n",
              "    <button class=\"colab-df-convert\" onclick=\"convertToInteractive('df-197afeaa-003e-47d9-8fb6-f33e6f533cbf')\"\n",
              "            title=\"Convert this dataframe to an interactive table.\"\n",
              "            style=\"display:none;\">\n",
              "\n",
              "  <svg xmlns=\"http://www.w3.org/2000/svg\" height=\"24px\" viewBox=\"0 -960 960 960\">\n",
              "    <path d=\"M120-120v-720h720v720H120Zm60-500h600v-160H180v160Zm220 220h160v-160H400v160Zm0 220h160v-160H400v160ZM180-400h160v-160H180v160Zm440 0h160v-160H620v160ZM180-180h160v-160H180v160Zm440 0h160v-160H620v160Z\"/>\n",
              "  </svg>\n",
              "    </button>\n",
              "\n",
              "  <style>\n",
              "    .colab-df-container {\n",
              "      display:flex;\n",
              "      gap: 12px;\n",
              "    }\n",
              "\n",
              "    .colab-df-convert {\n",
              "      background-color: #E8F0FE;\n",
              "      border: none;\n",
              "      border-radius: 50%;\n",
              "      cursor: pointer;\n",
              "      display: none;\n",
              "      fill: #1967D2;\n",
              "      height: 32px;\n",
              "      padding: 0 0 0 0;\n",
              "      width: 32px;\n",
              "    }\n",
              "\n",
              "    .colab-df-convert:hover {\n",
              "      background-color: #E2EBFA;\n",
              "      box-shadow: 0px 1px 2px rgba(60, 64, 67, 0.3), 0px 1px 3px 1px rgba(60, 64, 67, 0.15);\n",
              "      fill: #174EA6;\n",
              "    }\n",
              "\n",
              "    .colab-df-buttons div {\n",
              "      margin-bottom: 4px;\n",
              "    }\n",
              "\n",
              "    [theme=dark] .colab-df-convert {\n",
              "      background-color: #3B4455;\n",
              "      fill: #D2E3FC;\n",
              "    }\n",
              "\n",
              "    [theme=dark] .colab-df-convert:hover {\n",
              "      background-color: #434B5C;\n",
              "      box-shadow: 0px 1px 3px 1px rgba(0, 0, 0, 0.15);\n",
              "      filter: drop-shadow(0px 1px 2px rgba(0, 0, 0, 0.3));\n",
              "      fill: #FFFFFF;\n",
              "    }\n",
              "  </style>\n",
              "\n",
              "    <script>\n",
              "      const buttonEl =\n",
              "        document.querySelector('#df-197afeaa-003e-47d9-8fb6-f33e6f533cbf button.colab-df-convert');\n",
              "      buttonEl.style.display =\n",
              "        google.colab.kernel.accessAllowed ? 'block' : 'none';\n",
              "\n",
              "      async function convertToInteractive(key) {\n",
              "        const element = document.querySelector('#df-197afeaa-003e-47d9-8fb6-f33e6f533cbf');\n",
              "        const dataTable =\n",
              "          await google.colab.kernel.invokeFunction('convertToInteractive',\n",
              "                                                    [key], {});\n",
              "        if (!dataTable) return;\n",
              "\n",
              "        const docLinkHtml = 'Like what you see? Visit the ' +\n",
              "          '<a target=\"_blank\" href=https://colab.research.google.com/notebooks/data_table.ipynb>data table notebook</a>'\n",
              "          + ' to learn more about interactive tables.';\n",
              "        element.innerHTML = '';\n",
              "        dataTable['output_type'] = 'display_data';\n",
              "        await google.colab.output.renderOutput(dataTable, element);\n",
              "        const docLink = document.createElement('div');\n",
              "        docLink.innerHTML = docLinkHtml;\n",
              "        element.appendChild(docLink);\n",
              "      }\n",
              "    </script>\n",
              "  </div>\n",
              "\n",
              "\n",
              "    <div id=\"df-e56a4b8a-8b81-4a19-9f87-6cd11da3d2c3\">\n",
              "      <button class=\"colab-df-quickchart\" onclick=\"quickchart('df-e56a4b8a-8b81-4a19-9f87-6cd11da3d2c3')\"\n",
              "                title=\"Suggest charts\"\n",
              "                style=\"display:none;\">\n",
              "\n",
              "<svg xmlns=\"http://www.w3.org/2000/svg\" height=\"24px\"viewBox=\"0 0 24 24\"\n",
              "     width=\"24px\">\n",
              "    <g>\n",
              "        <path d=\"M19 3H5c-1.1 0-2 .9-2 2v14c0 1.1.9 2 2 2h14c1.1 0 2-.9 2-2V5c0-1.1-.9-2-2-2zM9 17H7v-7h2v7zm4 0h-2V7h2v10zm4 0h-2v-4h2v4z\"/>\n",
              "    </g>\n",
              "</svg>\n",
              "      </button>\n",
              "\n",
              "<style>\n",
              "  .colab-df-quickchart {\n",
              "      --bg-color: #E8F0FE;\n",
              "      --fill-color: #1967D2;\n",
              "      --hover-bg-color: #E2EBFA;\n",
              "      --hover-fill-color: #174EA6;\n",
              "      --disabled-fill-color: #AAA;\n",
              "      --disabled-bg-color: #DDD;\n",
              "  }\n",
              "\n",
              "  [theme=dark] .colab-df-quickchart {\n",
              "      --bg-color: #3B4455;\n",
              "      --fill-color: #D2E3FC;\n",
              "      --hover-bg-color: #434B5C;\n",
              "      --hover-fill-color: #FFFFFF;\n",
              "      --disabled-bg-color: #3B4455;\n",
              "      --disabled-fill-color: #666;\n",
              "  }\n",
              "\n",
              "  .colab-df-quickchart {\n",
              "    background-color: var(--bg-color);\n",
              "    border: none;\n",
              "    border-radius: 50%;\n",
              "    cursor: pointer;\n",
              "    display: none;\n",
              "    fill: var(--fill-color);\n",
              "    height: 32px;\n",
              "    padding: 0;\n",
              "    width: 32px;\n",
              "  }\n",
              "\n",
              "  .colab-df-quickchart:hover {\n",
              "    background-color: var(--hover-bg-color);\n",
              "    box-shadow: 0 1px 2px rgba(60, 64, 67, 0.3), 0 1px 3px 1px rgba(60, 64, 67, 0.15);\n",
              "    fill: var(--button-hover-fill-color);\n",
              "  }\n",
              "\n",
              "  .colab-df-quickchart-complete:disabled,\n",
              "  .colab-df-quickchart-complete:disabled:hover {\n",
              "    background-color: var(--disabled-bg-color);\n",
              "    fill: var(--disabled-fill-color);\n",
              "    box-shadow: none;\n",
              "  }\n",
              "\n",
              "  .colab-df-spinner {\n",
              "    border: 2px solid var(--fill-color);\n",
              "    border-color: transparent;\n",
              "    border-bottom-color: var(--fill-color);\n",
              "    animation:\n",
              "      spin 1s steps(1) infinite;\n",
              "  }\n",
              "\n",
              "  @keyframes spin {\n",
              "    0% {\n",
              "      border-color: transparent;\n",
              "      border-bottom-color: var(--fill-color);\n",
              "      border-left-color: var(--fill-color);\n",
              "    }\n",
              "    20% {\n",
              "      border-color: transparent;\n",
              "      border-left-color: var(--fill-color);\n",
              "      border-top-color: var(--fill-color);\n",
              "    }\n",
              "    30% {\n",
              "      border-color: transparent;\n",
              "      border-left-color: var(--fill-color);\n",
              "      border-top-color: var(--fill-color);\n",
              "      border-right-color: var(--fill-color);\n",
              "    }\n",
              "    40% {\n",
              "      border-color: transparent;\n",
              "      border-right-color: var(--fill-color);\n",
              "      border-top-color: var(--fill-color);\n",
              "    }\n",
              "    60% {\n",
              "      border-color: transparent;\n",
              "      border-right-color: var(--fill-color);\n",
              "    }\n",
              "    80% {\n",
              "      border-color: transparent;\n",
              "      border-right-color: var(--fill-color);\n",
              "      border-bottom-color: var(--fill-color);\n",
              "    }\n",
              "    90% {\n",
              "      border-color: transparent;\n",
              "      border-bottom-color: var(--fill-color);\n",
              "    }\n",
              "  }\n",
              "</style>\n",
              "\n",
              "      <script>\n",
              "        async function quickchart(key) {\n",
              "          const quickchartButtonEl =\n",
              "            document.querySelector('#' + key + ' button');\n",
              "          quickchartButtonEl.disabled = true;  // To prevent multiple clicks.\n",
              "          quickchartButtonEl.classList.add('colab-df-spinner');\n",
              "          try {\n",
              "            const charts = await google.colab.kernel.invokeFunction(\n",
              "                'suggestCharts', [key], {});\n",
              "          } catch (error) {\n",
              "            console.error('Error during call to suggestCharts:', error);\n",
              "          }\n",
              "          quickchartButtonEl.classList.remove('colab-df-spinner');\n",
              "          quickchartButtonEl.classList.add('colab-df-quickchart-complete');\n",
              "        }\n",
              "        (() => {\n",
              "          let quickchartButtonEl =\n",
              "            document.querySelector('#df-e56a4b8a-8b81-4a19-9f87-6cd11da3d2c3 button');\n",
              "          quickchartButtonEl.style.display =\n",
              "            google.colab.kernel.accessAllowed ? 'block' : 'none';\n",
              "        })();\n",
              "      </script>\n",
              "    </div>\n",
              "\n",
              "    </div>\n",
              "  </div>\n"
            ],
            "application/vnd.google.colaboratory.intrinsic+json": {
              "type": "dataframe",
              "variable_name": "ads"
            }
          },
          "metadata": {},
          "execution_count": 80
        }
      ],
      "source": [
        "file_id_ads = '1DSEdBOwXvrf6cKYNWva4Q-dsadCgQEOJ'\n",
        "\n",
        "\n",
        "download_url_ads = f'https://drive.google.com/uc?export=download&id={file_id_ads}'\n",
        "\n",
        "\n",
        "ads = pd.read_csv(download_url_ads)\n",
        "\n",
        "ads.head(10)\n"
      ]
    },
    {
      "cell_type": "code",
      "source": [
        "ads.shape"
      ],
      "metadata": {
        "colab": {
          "base_uri": "https://localhost:8080/"
        },
        "id": "CiRKgc7NmAT6",
        "outputId": "db7f4cd0-ebe8-42af-b9ce-a045569d97f9"
      },
      "execution_count": null,
      "outputs": [
        {
          "output_type": "execute_result",
          "data": {
            "text/plain": [
              "(1975, 137)"
            ]
          },
          "metadata": {},
          "execution_count": 81
        }
      ]
    },
    {
      "cell_type": "code",
      "source": [
        "ads['Automation System Engaged?'].value_counts()"
      ],
      "metadata": {
        "colab": {
          "base_uri": "https://localhost:8080/",
          "height": 209
        },
        "id": "W_i-aEg3070_",
        "outputId": "f702a4d7-aff5-4de5-8b90-b2937c05b573"
      },
      "execution_count": null,
      "outputs": [
        {
          "output_type": "execute_result",
          "data": {
            "text/plain": [
              "Automation System Engaged?\n",
              "ADS                       1915\n",
              "Unknown, see Narrative      29\n",
              "ADAS                        27\n",
              "Name: count, dtype: int64"
            ],
            "text/html": [
              "<div>\n",
              "<style scoped>\n",
              "    .dataframe tbody tr th:only-of-type {\n",
              "        vertical-align: middle;\n",
              "    }\n",
              "\n",
              "    .dataframe tbody tr th {\n",
              "        vertical-align: top;\n",
              "    }\n",
              "\n",
              "    .dataframe thead th {\n",
              "        text-align: right;\n",
              "    }\n",
              "</style>\n",
              "<table border=\"1\" class=\"dataframe\">\n",
              "  <thead>\n",
              "    <tr style=\"text-align: right;\">\n",
              "      <th></th>\n",
              "      <th>count</th>\n",
              "    </tr>\n",
              "    <tr>\n",
              "      <th>Automation System Engaged?</th>\n",
              "      <th></th>\n",
              "    </tr>\n",
              "  </thead>\n",
              "  <tbody>\n",
              "    <tr>\n",
              "      <th>ADS</th>\n",
              "      <td>1915</td>\n",
              "    </tr>\n",
              "    <tr>\n",
              "      <th>Unknown, see Narrative</th>\n",
              "      <td>29</td>\n",
              "    </tr>\n",
              "    <tr>\n",
              "      <th>ADAS</th>\n",
              "      <td>27</td>\n",
              "    </tr>\n",
              "  </tbody>\n",
              "</table>\n",
              "</div><br><label><b>dtype:</b> int64</label>"
            ]
          },
          "metadata": {},
          "execution_count": 82
        }
      ]
    },
    {
      "cell_type": "code",
      "source": [
        "ads ['ADS Equipped?'].value_counts()"
      ],
      "metadata": {
        "colab": {
          "base_uri": "https://localhost:8080/",
          "height": 147
        },
        "id": "9uoXxeywTqeE",
        "outputId": "1c53085c-249b-428a-eac8-6e0cceb44810"
      },
      "execution_count": null,
      "outputs": [
        {
          "output_type": "execute_result",
          "data": {
            "text/plain": [
              "ADS Equipped?\n",
              "Yes    1971\n",
              "Name: count, dtype: int64"
            ],
            "text/html": [
              "<div>\n",
              "<style scoped>\n",
              "    .dataframe tbody tr th:only-of-type {\n",
              "        vertical-align: middle;\n",
              "    }\n",
              "\n",
              "    .dataframe tbody tr th {\n",
              "        vertical-align: top;\n",
              "    }\n",
              "\n",
              "    .dataframe thead th {\n",
              "        text-align: right;\n",
              "    }\n",
              "</style>\n",
              "<table border=\"1\" class=\"dataframe\">\n",
              "  <thead>\n",
              "    <tr style=\"text-align: right;\">\n",
              "      <th></th>\n",
              "      <th>count</th>\n",
              "    </tr>\n",
              "    <tr>\n",
              "      <th>ADS Equipped?</th>\n",
              "      <th></th>\n",
              "    </tr>\n",
              "  </thead>\n",
              "  <tbody>\n",
              "    <tr>\n",
              "      <th>Yes</th>\n",
              "      <td>1971</td>\n",
              "    </tr>\n",
              "  </tbody>\n",
              "</table>\n",
              "</div><br><label><b>dtype:</b> int64</label>"
            ]
          },
          "metadata": {},
          "execution_count": 83
        }
      ]
    },
    {
      "cell_type": "code",
      "source": [
        "\n",
        "ads['Make'].value_counts()\n"
      ],
      "metadata": {
        "colab": {
          "base_uri": "https://localhost:8080/",
          "height": 1000
        },
        "id": "8UR9TFx0QUqA",
        "outputId": "78049c9c-d34e-4310-f13f-2d40deade8d2"
      },
      "execution_count": null,
      "outputs": [
        {
          "output_type": "execute_result",
          "data": {
            "text/plain": [
              "Make\n",
              "Jaguar                     1072\n",
              "Cruise                      396\n",
              "Toyota                      129\n",
              "JLR                          62\n",
              "Ford                         50\n",
              "Peterbilt                    49\n",
              "Hyundai                      42\n",
              "Chrysler                     28\n",
              "Lexus                        17\n",
              "Mercedes-Benz                12\n",
              "Chevrolet                    11\n",
              "Volkswagen                   10\n",
              "Navya                         9\n",
              "Nissan                        9\n",
              "Kenworth Motor Truck Co       8\n",
              "Kenworth                      7\n",
              "EZ10                          6\n",
              "FREIGHTLINER                  5\n",
              "Zoox                          5\n",
              "Lucid                         5\n",
              "Lincoln                       5\n",
              "Local Motors                  4\n",
              "Jaquar                        3\n",
              "Vinfast                       3\n",
              "Freightliner                  3\n",
              "EQS                           2\n",
              "Jeep                          2\n",
              "Ligier                        2\n",
              "KIA                           2\n",
              "International                 2\n",
              "Polestar                      2\n",
              "Huyndai                       1\n",
              "Local Motors (LOCM)           1\n",
              "Crui9se                       1\n",
              "LExus                         1\n",
              "KENWORTH                      1\n",
              "NISSAN                        1\n",
              "Ligier Group                  1\n",
              "INTERNATIONAL                 1\n",
              "NAVYA                         1\n",
              "OLLI                          1\n",
              "Name: count, dtype: int64"
            ],
            "text/html": [
              "<div>\n",
              "<style scoped>\n",
              "    .dataframe tbody tr th:only-of-type {\n",
              "        vertical-align: middle;\n",
              "    }\n",
              "\n",
              "    .dataframe tbody tr th {\n",
              "        vertical-align: top;\n",
              "    }\n",
              "\n",
              "    .dataframe thead th {\n",
              "        text-align: right;\n",
              "    }\n",
              "</style>\n",
              "<table border=\"1\" class=\"dataframe\">\n",
              "  <thead>\n",
              "    <tr style=\"text-align: right;\">\n",
              "      <th></th>\n",
              "      <th>count</th>\n",
              "    </tr>\n",
              "    <tr>\n",
              "      <th>Make</th>\n",
              "      <th></th>\n",
              "    </tr>\n",
              "  </thead>\n",
              "  <tbody>\n",
              "    <tr>\n",
              "      <th>Jaguar</th>\n",
              "      <td>1072</td>\n",
              "    </tr>\n",
              "    <tr>\n",
              "      <th>Cruise</th>\n",
              "      <td>396</td>\n",
              "    </tr>\n",
              "    <tr>\n",
              "      <th>Toyota</th>\n",
              "      <td>129</td>\n",
              "    </tr>\n",
              "    <tr>\n",
              "      <th>JLR</th>\n",
              "      <td>62</td>\n",
              "    </tr>\n",
              "    <tr>\n",
              "      <th>Ford</th>\n",
              "      <td>50</td>\n",
              "    </tr>\n",
              "    <tr>\n",
              "      <th>Peterbilt</th>\n",
              "      <td>49</td>\n",
              "    </tr>\n",
              "    <tr>\n",
              "      <th>Hyundai</th>\n",
              "      <td>42</td>\n",
              "    </tr>\n",
              "    <tr>\n",
              "      <th>Chrysler</th>\n",
              "      <td>28</td>\n",
              "    </tr>\n",
              "    <tr>\n",
              "      <th>Lexus</th>\n",
              "      <td>17</td>\n",
              "    </tr>\n",
              "    <tr>\n",
              "      <th>Mercedes-Benz</th>\n",
              "      <td>12</td>\n",
              "    </tr>\n",
              "    <tr>\n",
              "      <th>Chevrolet</th>\n",
              "      <td>11</td>\n",
              "    </tr>\n",
              "    <tr>\n",
              "      <th>Volkswagen</th>\n",
              "      <td>10</td>\n",
              "    </tr>\n",
              "    <tr>\n",
              "      <th>Navya</th>\n",
              "      <td>9</td>\n",
              "    </tr>\n",
              "    <tr>\n",
              "      <th>Nissan</th>\n",
              "      <td>9</td>\n",
              "    </tr>\n",
              "    <tr>\n",
              "      <th>Kenworth Motor Truck Co</th>\n",
              "      <td>8</td>\n",
              "    </tr>\n",
              "    <tr>\n",
              "      <th>Kenworth</th>\n",
              "      <td>7</td>\n",
              "    </tr>\n",
              "    <tr>\n",
              "      <th>EZ10</th>\n",
              "      <td>6</td>\n",
              "    </tr>\n",
              "    <tr>\n",
              "      <th>FREIGHTLINER</th>\n",
              "      <td>5</td>\n",
              "    </tr>\n",
              "    <tr>\n",
              "      <th>Zoox</th>\n",
              "      <td>5</td>\n",
              "    </tr>\n",
              "    <tr>\n",
              "      <th>Lucid</th>\n",
              "      <td>5</td>\n",
              "    </tr>\n",
              "    <tr>\n",
              "      <th>Lincoln</th>\n",
              "      <td>5</td>\n",
              "    </tr>\n",
              "    <tr>\n",
              "      <th>Local Motors</th>\n",
              "      <td>4</td>\n",
              "    </tr>\n",
              "    <tr>\n",
              "      <th>Jaquar</th>\n",
              "      <td>3</td>\n",
              "    </tr>\n",
              "    <tr>\n",
              "      <th>Vinfast</th>\n",
              "      <td>3</td>\n",
              "    </tr>\n",
              "    <tr>\n",
              "      <th>Freightliner</th>\n",
              "      <td>3</td>\n",
              "    </tr>\n",
              "    <tr>\n",
              "      <th>EQS</th>\n",
              "      <td>2</td>\n",
              "    </tr>\n",
              "    <tr>\n",
              "      <th>Jeep</th>\n",
              "      <td>2</td>\n",
              "    </tr>\n",
              "    <tr>\n",
              "      <th>Ligier</th>\n",
              "      <td>2</td>\n",
              "    </tr>\n",
              "    <tr>\n",
              "      <th>KIA</th>\n",
              "      <td>2</td>\n",
              "    </tr>\n",
              "    <tr>\n",
              "      <th>International</th>\n",
              "      <td>2</td>\n",
              "    </tr>\n",
              "    <tr>\n",
              "      <th>Polestar</th>\n",
              "      <td>2</td>\n",
              "    </tr>\n",
              "    <tr>\n",
              "      <th>Huyndai</th>\n",
              "      <td>1</td>\n",
              "    </tr>\n",
              "    <tr>\n",
              "      <th>Local Motors (LOCM)</th>\n",
              "      <td>1</td>\n",
              "    </tr>\n",
              "    <tr>\n",
              "      <th>Crui9se</th>\n",
              "      <td>1</td>\n",
              "    </tr>\n",
              "    <tr>\n",
              "      <th>LExus</th>\n",
              "      <td>1</td>\n",
              "    </tr>\n",
              "    <tr>\n",
              "      <th>KENWORTH</th>\n",
              "      <td>1</td>\n",
              "    </tr>\n",
              "    <tr>\n",
              "      <th>NISSAN</th>\n",
              "      <td>1</td>\n",
              "    </tr>\n",
              "    <tr>\n",
              "      <th>Ligier Group</th>\n",
              "      <td>1</td>\n",
              "    </tr>\n",
              "    <tr>\n",
              "      <th>INTERNATIONAL</th>\n",
              "      <td>1</td>\n",
              "    </tr>\n",
              "    <tr>\n",
              "      <th>NAVYA</th>\n",
              "      <td>1</td>\n",
              "    </tr>\n",
              "    <tr>\n",
              "      <th>OLLI</th>\n",
              "      <td>1</td>\n",
              "    </tr>\n",
              "  </tbody>\n",
              "</table>\n",
              "</div><br><label><b>dtype:</b> int64</label>"
            ]
          },
          "metadata": {},
          "execution_count": 84
        }
      ]
    },
    {
      "cell_type": "markdown",
      "source": [
        "This data set is valuable for exploring the make of a car which crashed as well as whether or not the ADS system was in use."
      ],
      "metadata": {
        "id": "4suWVYbv9jfK"
      }
    },
    {
      "cell_type": "markdown",
      "source": [
        "## Incident Reports ADAS Data Set 2\n",
        "\n",
        "Reading the csv file for adas related car accidents and storing in `adas`\n",
        "\n",
        " Checking the `shape` and the `value_counts()` of necessary columns"
      ],
      "metadata": {
        "id": "y5MZayo0AFHQ"
      }
    },
    {
      "cell_type": "code",
      "source": [
        "file_id_adas = '1GbL6Tr0GwRiHOYBz12dubZNB7b9TUves'\n",
        "\n",
        "\n",
        "download_url_adas = f'https://drive.google.com/uc?export=download&id={file_id_adas}'\n",
        "\n",
        "\n",
        "adas = pd.read_csv(download_url_adas)\n",
        "adas.head(10)"
      ],
      "metadata": {
        "colab": {
          "base_uri": "https://localhost:8080/",
          "height": 985
        },
        "id": "FOchky8__615",
        "outputId": "bee969e2-f217-4d6c-bd7d-99fc20638701"
      },
      "execution_count": null,
      "outputs": [
        {
          "output_type": "execute_result",
          "data": {
            "text/plain": [
              "     Report ID  Report Version Reporting Entity Report Type  Report Month  \\\n",
              "0  13781-10262               1      Tesla, Inc.       1-Day           NaN   \n",
              "1   13781-9623               2      Tesla, Inc.      Update           NaN   \n",
              "2  13781-10249               1      Tesla, Inc.       5-Day           NaN   \n",
              "3  13781-10248               1      Tesla, Inc.       5-Day           NaN   \n",
              "4  13781-10247               1      Tesla, Inc.       5-Day           NaN   \n",
              "5  13781-10245               1      Tesla, Inc.       5-Day           NaN   \n",
              "6  13781-10243               1      Tesla, Inc.       5-Day           NaN   \n",
              "7  13781-10242               1      Tesla, Inc.       5-Day           NaN   \n",
              "8  13781-10241               1      Tesla, Inc.       5-Day           NaN   \n",
              "9  13781-10240               1      Tesla, Inc.       5-Day           NaN   \n",
              "\n",
              "   Report Year Report Submission Date          VIN VIN - Unknown  \\\n",
              "0          NaN               MAR-2025  7SAYGDEE8NA                 \n",
              "1          NaN               MAR-2025  5YJ3E1EA7SF                 \n",
              "2          NaN               MAR-2025  7G2CEHED3RA                 \n",
              "3          NaN               MAR-2025  5YJXCBE21GF                 \n",
              "4          NaN               MAR-2025  5YJ3E1EB5RF                 \n",
              "5          NaN               MAR-2025  5YJ3E1EAXRF                 \n",
              "6          NaN               MAR-2025  5YJ3E1EA6PF                 \n",
              "7          NaN               MAR-2025  5YJ3E1EA2SF                 \n",
              "8          NaN               MAR-2025  5YJ3E1EA8RF                 \n",
              "9          NaN               MAR-2025  7SAYGDED8SA                 \n",
              "\n",
              "  Serial Number  ... Investigating Officer Name Inv. Officer Name - Unknown  \\\n",
              "0           NaN  ...                        NaN                           Y   \n",
              "1           NaN  ...                        NaN                           Y   \n",
              "2           NaN  ...                        NaN                           Y   \n",
              "3           NaN  ...                        NaN                           Y   \n",
              "4           NaN  ...                        NaN                           Y   \n",
              "5           NaN  ...                        NaN                           Y   \n",
              "6           NaN  ...                        NaN                           Y   \n",
              "7           NaN  ...                        NaN                           Y   \n",
              "8           NaN  ...                        NaN                           Y   \n",
              "9           NaN  ...                        NaN                           Y   \n",
              "\n",
              "  Investigating Officer Phone  Inv. Officer Phone - Unknown  \\\n",
              "0                         NaN                             Y   \n",
              "1                         NaN                             Y   \n",
              "2                         NaN                             Y   \n",
              "3                         NaN                             Y   \n",
              "4                         NaN                             Y   \n",
              "5                         NaN                             Y   \n",
              "6                         NaN                             Y   \n",
              "7                         NaN                             Y   \n",
              "8                         NaN                             Y   \n",
              "9                         NaN                             Y   \n",
              "\n",
              "  Investigating Officer Email Inv. Officer Email - Unknown  \\\n",
              "0                         NaN                            Y   \n",
              "1                         NaN                            Y   \n",
              "2                         NaN                            Y   \n",
              "3                         NaN                            Y   \n",
              "4                         NaN                            Y   \n",
              "5                         NaN                            Y   \n",
              "6                         NaN                            Y   \n",
              "7                         NaN                            Y   \n",
              "8                         NaN                            Y   \n",
              "9                         NaN                            Y   \n",
              "\n",
              "                                         Within ODD? Within ODD? - CBI  \\\n",
              "0  [REDACTED, MAY CONTAIN CONFIDENTIAL BUSINESS I...                 Y   \n",
              "1  [REDACTED, MAY CONTAIN CONFIDENTIAL BUSINESS I...                 Y   \n",
              "2  [REDACTED, MAY CONTAIN CONFIDENTIAL BUSINESS I...                 Y   \n",
              "3  [REDACTED, MAY CONTAIN CONFIDENTIAL BUSINESS I...                 Y   \n",
              "4  [REDACTED, MAY CONTAIN CONFIDENTIAL BUSINESS I...                 Y   \n",
              "5  [REDACTED, MAY CONTAIN CONFIDENTIAL BUSINESS I...                 Y   \n",
              "6  [REDACTED, MAY CONTAIN CONFIDENTIAL BUSINESS I...                 Y   \n",
              "7  [REDACTED, MAY CONTAIN CONFIDENTIAL BUSINESS I...                 Y   \n",
              "8  [REDACTED, MAY CONTAIN CONFIDENTIAL BUSINESS I...                 Y   \n",
              "9  [REDACTED, MAY CONTAIN CONFIDENTIAL BUSINESS I...                 Y   \n",
              "\n",
              "                                           Narrative Narrative - CBI?  \n",
              "0  [REDACTED, MAY CONTAIN CONFIDENTIAL BUSINESS I...                Y  \n",
              "1  [REDACTED, MAY CONTAIN CONFIDENTIAL BUSINESS I...                Y  \n",
              "2  [REDACTED, MAY CONTAIN CONFIDENTIAL BUSINESS I...                Y  \n",
              "3  [REDACTED, MAY CONTAIN CONFIDENTIAL BUSINESS I...                Y  \n",
              "4  [REDACTED, MAY CONTAIN CONFIDENTIAL BUSINESS I...                Y  \n",
              "5  [REDACTED, MAY CONTAIN CONFIDENTIAL BUSINESS I...                Y  \n",
              "6  [REDACTED, MAY CONTAIN CONFIDENTIAL BUSINESS I...                Y  \n",
              "7  [REDACTED, MAY CONTAIN CONFIDENTIAL BUSINESS I...                Y  \n",
              "8  [REDACTED, MAY CONTAIN CONFIDENTIAL BUSINESS I...                Y  \n",
              "9  [REDACTED, MAY CONTAIN CONFIDENTIAL BUSINESS I...                Y  \n",
              "\n",
              "[10 rows x 137 columns]"
            ],
            "text/html": [
              "\n",
              "  <div id=\"df-c1935ca1-8b97-4c81-9736-29829a06178d\" class=\"colab-df-container\">\n",
              "    <div>\n",
              "<style scoped>\n",
              "    .dataframe tbody tr th:only-of-type {\n",
              "        vertical-align: middle;\n",
              "    }\n",
              "\n",
              "    .dataframe tbody tr th {\n",
              "        vertical-align: top;\n",
              "    }\n",
              "\n",
              "    .dataframe thead th {\n",
              "        text-align: right;\n",
              "    }\n",
              "</style>\n",
              "<table border=\"1\" class=\"dataframe\">\n",
              "  <thead>\n",
              "    <tr style=\"text-align: right;\">\n",
              "      <th></th>\n",
              "      <th>Report ID</th>\n",
              "      <th>Report Version</th>\n",
              "      <th>Reporting Entity</th>\n",
              "      <th>Report Type</th>\n",
              "      <th>Report Month</th>\n",
              "      <th>Report Year</th>\n",
              "      <th>Report Submission Date</th>\n",
              "      <th>VIN</th>\n",
              "      <th>VIN - Unknown</th>\n",
              "      <th>Serial Number</th>\n",
              "      <th>...</th>\n",
              "      <th>Investigating Officer Name</th>\n",
              "      <th>Inv. Officer Name - Unknown</th>\n",
              "      <th>Investigating Officer Phone</th>\n",
              "      <th>Inv. Officer Phone - Unknown</th>\n",
              "      <th>Investigating Officer Email</th>\n",
              "      <th>Inv. Officer Email - Unknown</th>\n",
              "      <th>Within ODD?</th>\n",
              "      <th>Within ODD? - CBI</th>\n",
              "      <th>Narrative</th>\n",
              "      <th>Narrative - CBI?</th>\n",
              "    </tr>\n",
              "  </thead>\n",
              "  <tbody>\n",
              "    <tr>\n",
              "      <th>0</th>\n",
              "      <td>13781-10262</td>\n",
              "      <td>1</td>\n",
              "      <td>Tesla, Inc.</td>\n",
              "      <td>1-Day</td>\n",
              "      <td>NaN</td>\n",
              "      <td>NaN</td>\n",
              "      <td>MAR-2025</td>\n",
              "      <td>7SAYGDEE8NA</td>\n",
              "      <td></td>\n",
              "      <td>NaN</td>\n",
              "      <td>...</td>\n",
              "      <td>NaN</td>\n",
              "      <td>Y</td>\n",
              "      <td>NaN</td>\n",
              "      <td>Y</td>\n",
              "      <td>NaN</td>\n",
              "      <td>Y</td>\n",
              "      <td>[REDACTED, MAY CONTAIN CONFIDENTIAL BUSINESS I...</td>\n",
              "      <td>Y</td>\n",
              "      <td>[REDACTED, MAY CONTAIN CONFIDENTIAL BUSINESS I...</td>\n",
              "      <td>Y</td>\n",
              "    </tr>\n",
              "    <tr>\n",
              "      <th>1</th>\n",
              "      <td>13781-9623</td>\n",
              "      <td>2</td>\n",
              "      <td>Tesla, Inc.</td>\n",
              "      <td>Update</td>\n",
              "      <td>NaN</td>\n",
              "      <td>NaN</td>\n",
              "      <td>MAR-2025</td>\n",
              "      <td>5YJ3E1EA7SF</td>\n",
              "      <td></td>\n",
              "      <td>NaN</td>\n",
              "      <td>...</td>\n",
              "      <td>NaN</td>\n",
              "      <td>Y</td>\n",
              "      <td>NaN</td>\n",
              "      <td>Y</td>\n",
              "      <td>NaN</td>\n",
              "      <td>Y</td>\n",
              "      <td>[REDACTED, MAY CONTAIN CONFIDENTIAL BUSINESS I...</td>\n",
              "      <td>Y</td>\n",
              "      <td>[REDACTED, MAY CONTAIN CONFIDENTIAL BUSINESS I...</td>\n",
              "      <td>Y</td>\n",
              "    </tr>\n",
              "    <tr>\n",
              "      <th>2</th>\n",
              "      <td>13781-10249</td>\n",
              "      <td>1</td>\n",
              "      <td>Tesla, Inc.</td>\n",
              "      <td>5-Day</td>\n",
              "      <td>NaN</td>\n",
              "      <td>NaN</td>\n",
              "      <td>MAR-2025</td>\n",
              "      <td>7G2CEHED3RA</td>\n",
              "      <td></td>\n",
              "      <td>NaN</td>\n",
              "      <td>...</td>\n",
              "      <td>NaN</td>\n",
              "      <td>Y</td>\n",
              "      <td>NaN</td>\n",
              "      <td>Y</td>\n",
              "      <td>NaN</td>\n",
              "      <td>Y</td>\n",
              "      <td>[REDACTED, MAY CONTAIN CONFIDENTIAL BUSINESS I...</td>\n",
              "      <td>Y</td>\n",
              "      <td>[REDACTED, MAY CONTAIN CONFIDENTIAL BUSINESS I...</td>\n",
              "      <td>Y</td>\n",
              "    </tr>\n",
              "    <tr>\n",
              "      <th>3</th>\n",
              "      <td>13781-10248</td>\n",
              "      <td>1</td>\n",
              "      <td>Tesla, Inc.</td>\n",
              "      <td>5-Day</td>\n",
              "      <td>NaN</td>\n",
              "      <td>NaN</td>\n",
              "      <td>MAR-2025</td>\n",
              "      <td>5YJXCBE21GF</td>\n",
              "      <td></td>\n",
              "      <td>NaN</td>\n",
              "      <td>...</td>\n",
              "      <td>NaN</td>\n",
              "      <td>Y</td>\n",
              "      <td>NaN</td>\n",
              "      <td>Y</td>\n",
              "      <td>NaN</td>\n",
              "      <td>Y</td>\n",
              "      <td>[REDACTED, MAY CONTAIN CONFIDENTIAL BUSINESS I...</td>\n",
              "      <td>Y</td>\n",
              "      <td>[REDACTED, MAY CONTAIN CONFIDENTIAL BUSINESS I...</td>\n",
              "      <td>Y</td>\n",
              "    </tr>\n",
              "    <tr>\n",
              "      <th>4</th>\n",
              "      <td>13781-10247</td>\n",
              "      <td>1</td>\n",
              "      <td>Tesla, Inc.</td>\n",
              "      <td>5-Day</td>\n",
              "      <td>NaN</td>\n",
              "      <td>NaN</td>\n",
              "      <td>MAR-2025</td>\n",
              "      <td>5YJ3E1EB5RF</td>\n",
              "      <td></td>\n",
              "      <td>NaN</td>\n",
              "      <td>...</td>\n",
              "      <td>NaN</td>\n",
              "      <td>Y</td>\n",
              "      <td>NaN</td>\n",
              "      <td>Y</td>\n",
              "      <td>NaN</td>\n",
              "      <td>Y</td>\n",
              "      <td>[REDACTED, MAY CONTAIN CONFIDENTIAL BUSINESS I...</td>\n",
              "      <td>Y</td>\n",
              "      <td>[REDACTED, MAY CONTAIN CONFIDENTIAL BUSINESS I...</td>\n",
              "      <td>Y</td>\n",
              "    </tr>\n",
              "    <tr>\n",
              "      <th>5</th>\n",
              "      <td>13781-10245</td>\n",
              "      <td>1</td>\n",
              "      <td>Tesla, Inc.</td>\n",
              "      <td>5-Day</td>\n",
              "      <td>NaN</td>\n",
              "      <td>NaN</td>\n",
              "      <td>MAR-2025</td>\n",
              "      <td>5YJ3E1EAXRF</td>\n",
              "      <td></td>\n",
              "      <td>NaN</td>\n",
              "      <td>...</td>\n",
              "      <td>NaN</td>\n",
              "      <td>Y</td>\n",
              "      <td>NaN</td>\n",
              "      <td>Y</td>\n",
              "      <td>NaN</td>\n",
              "      <td>Y</td>\n",
              "      <td>[REDACTED, MAY CONTAIN CONFIDENTIAL BUSINESS I...</td>\n",
              "      <td>Y</td>\n",
              "      <td>[REDACTED, MAY CONTAIN CONFIDENTIAL BUSINESS I...</td>\n",
              "      <td>Y</td>\n",
              "    </tr>\n",
              "    <tr>\n",
              "      <th>6</th>\n",
              "      <td>13781-10243</td>\n",
              "      <td>1</td>\n",
              "      <td>Tesla, Inc.</td>\n",
              "      <td>5-Day</td>\n",
              "      <td>NaN</td>\n",
              "      <td>NaN</td>\n",
              "      <td>MAR-2025</td>\n",
              "      <td>5YJ3E1EA6PF</td>\n",
              "      <td></td>\n",
              "      <td>NaN</td>\n",
              "      <td>...</td>\n",
              "      <td>NaN</td>\n",
              "      <td>Y</td>\n",
              "      <td>NaN</td>\n",
              "      <td>Y</td>\n",
              "      <td>NaN</td>\n",
              "      <td>Y</td>\n",
              "      <td>[REDACTED, MAY CONTAIN CONFIDENTIAL BUSINESS I...</td>\n",
              "      <td>Y</td>\n",
              "      <td>[REDACTED, MAY CONTAIN CONFIDENTIAL BUSINESS I...</td>\n",
              "      <td>Y</td>\n",
              "    </tr>\n",
              "    <tr>\n",
              "      <th>7</th>\n",
              "      <td>13781-10242</td>\n",
              "      <td>1</td>\n",
              "      <td>Tesla, Inc.</td>\n",
              "      <td>5-Day</td>\n",
              "      <td>NaN</td>\n",
              "      <td>NaN</td>\n",
              "      <td>MAR-2025</td>\n",
              "      <td>5YJ3E1EA2SF</td>\n",
              "      <td></td>\n",
              "      <td>NaN</td>\n",
              "      <td>...</td>\n",
              "      <td>NaN</td>\n",
              "      <td>Y</td>\n",
              "      <td>NaN</td>\n",
              "      <td>Y</td>\n",
              "      <td>NaN</td>\n",
              "      <td>Y</td>\n",
              "      <td>[REDACTED, MAY CONTAIN CONFIDENTIAL BUSINESS I...</td>\n",
              "      <td>Y</td>\n",
              "      <td>[REDACTED, MAY CONTAIN CONFIDENTIAL BUSINESS I...</td>\n",
              "      <td>Y</td>\n",
              "    </tr>\n",
              "    <tr>\n",
              "      <th>8</th>\n",
              "      <td>13781-10241</td>\n",
              "      <td>1</td>\n",
              "      <td>Tesla, Inc.</td>\n",
              "      <td>5-Day</td>\n",
              "      <td>NaN</td>\n",
              "      <td>NaN</td>\n",
              "      <td>MAR-2025</td>\n",
              "      <td>5YJ3E1EA8RF</td>\n",
              "      <td></td>\n",
              "      <td>NaN</td>\n",
              "      <td>...</td>\n",
              "      <td>NaN</td>\n",
              "      <td>Y</td>\n",
              "      <td>NaN</td>\n",
              "      <td>Y</td>\n",
              "      <td>NaN</td>\n",
              "      <td>Y</td>\n",
              "      <td>[REDACTED, MAY CONTAIN CONFIDENTIAL BUSINESS I...</td>\n",
              "      <td>Y</td>\n",
              "      <td>[REDACTED, MAY CONTAIN CONFIDENTIAL BUSINESS I...</td>\n",
              "      <td>Y</td>\n",
              "    </tr>\n",
              "    <tr>\n",
              "      <th>9</th>\n",
              "      <td>13781-10240</td>\n",
              "      <td>1</td>\n",
              "      <td>Tesla, Inc.</td>\n",
              "      <td>5-Day</td>\n",
              "      <td>NaN</td>\n",
              "      <td>NaN</td>\n",
              "      <td>MAR-2025</td>\n",
              "      <td>7SAYGDED8SA</td>\n",
              "      <td></td>\n",
              "      <td>NaN</td>\n",
              "      <td>...</td>\n",
              "      <td>NaN</td>\n",
              "      <td>Y</td>\n",
              "      <td>NaN</td>\n",
              "      <td>Y</td>\n",
              "      <td>NaN</td>\n",
              "      <td>Y</td>\n",
              "      <td>[REDACTED, MAY CONTAIN CONFIDENTIAL BUSINESS I...</td>\n",
              "      <td>Y</td>\n",
              "      <td>[REDACTED, MAY CONTAIN CONFIDENTIAL BUSINESS I...</td>\n",
              "      <td>Y</td>\n",
              "    </tr>\n",
              "  </tbody>\n",
              "</table>\n",
              "<p>10 rows × 137 columns</p>\n",
              "</div>\n",
              "    <div class=\"colab-df-buttons\">\n",
              "\n",
              "  <div class=\"colab-df-container\">\n",
              "    <button class=\"colab-df-convert\" onclick=\"convertToInteractive('df-c1935ca1-8b97-4c81-9736-29829a06178d')\"\n",
              "            title=\"Convert this dataframe to an interactive table.\"\n",
              "            style=\"display:none;\">\n",
              "\n",
              "  <svg xmlns=\"http://www.w3.org/2000/svg\" height=\"24px\" viewBox=\"0 -960 960 960\">\n",
              "    <path d=\"M120-120v-720h720v720H120Zm60-500h600v-160H180v160Zm220 220h160v-160H400v160Zm0 220h160v-160H400v160ZM180-400h160v-160H180v160Zm440 0h160v-160H620v160ZM180-180h160v-160H180v160Zm440 0h160v-160H620v160Z\"/>\n",
              "  </svg>\n",
              "    </button>\n",
              "\n",
              "  <style>\n",
              "    .colab-df-container {\n",
              "      display:flex;\n",
              "      gap: 12px;\n",
              "    }\n",
              "\n",
              "    .colab-df-convert {\n",
              "      background-color: #E8F0FE;\n",
              "      border: none;\n",
              "      border-radius: 50%;\n",
              "      cursor: pointer;\n",
              "      display: none;\n",
              "      fill: #1967D2;\n",
              "      height: 32px;\n",
              "      padding: 0 0 0 0;\n",
              "      width: 32px;\n",
              "    }\n",
              "\n",
              "    .colab-df-convert:hover {\n",
              "      background-color: #E2EBFA;\n",
              "      box-shadow: 0px 1px 2px rgba(60, 64, 67, 0.3), 0px 1px 3px 1px rgba(60, 64, 67, 0.15);\n",
              "      fill: #174EA6;\n",
              "    }\n",
              "\n",
              "    .colab-df-buttons div {\n",
              "      margin-bottom: 4px;\n",
              "    }\n",
              "\n",
              "    [theme=dark] .colab-df-convert {\n",
              "      background-color: #3B4455;\n",
              "      fill: #D2E3FC;\n",
              "    }\n",
              "\n",
              "    [theme=dark] .colab-df-convert:hover {\n",
              "      background-color: #434B5C;\n",
              "      box-shadow: 0px 1px 3px 1px rgba(0, 0, 0, 0.15);\n",
              "      filter: drop-shadow(0px 1px 2px rgba(0, 0, 0, 0.3));\n",
              "      fill: #FFFFFF;\n",
              "    }\n",
              "  </style>\n",
              "\n",
              "    <script>\n",
              "      const buttonEl =\n",
              "        document.querySelector('#df-c1935ca1-8b97-4c81-9736-29829a06178d button.colab-df-convert');\n",
              "      buttonEl.style.display =\n",
              "        google.colab.kernel.accessAllowed ? 'block' : 'none';\n",
              "\n",
              "      async function convertToInteractive(key) {\n",
              "        const element = document.querySelector('#df-c1935ca1-8b97-4c81-9736-29829a06178d');\n",
              "        const dataTable =\n",
              "          await google.colab.kernel.invokeFunction('convertToInteractive',\n",
              "                                                    [key], {});\n",
              "        if (!dataTable) return;\n",
              "\n",
              "        const docLinkHtml = 'Like what you see? Visit the ' +\n",
              "          '<a target=\"_blank\" href=https://colab.research.google.com/notebooks/data_table.ipynb>data table notebook</a>'\n",
              "          + ' to learn more about interactive tables.';\n",
              "        element.innerHTML = '';\n",
              "        dataTable['output_type'] = 'display_data';\n",
              "        await google.colab.output.renderOutput(dataTable, element);\n",
              "        const docLink = document.createElement('div');\n",
              "        docLink.innerHTML = docLinkHtml;\n",
              "        element.appendChild(docLink);\n",
              "      }\n",
              "    </script>\n",
              "  </div>\n",
              "\n",
              "\n",
              "    <div id=\"df-d0bd2802-9eaa-41fb-ac3d-575e58ee00df\">\n",
              "      <button class=\"colab-df-quickchart\" onclick=\"quickchart('df-d0bd2802-9eaa-41fb-ac3d-575e58ee00df')\"\n",
              "                title=\"Suggest charts\"\n",
              "                style=\"display:none;\">\n",
              "\n",
              "<svg xmlns=\"http://www.w3.org/2000/svg\" height=\"24px\"viewBox=\"0 0 24 24\"\n",
              "     width=\"24px\">\n",
              "    <g>\n",
              "        <path d=\"M19 3H5c-1.1 0-2 .9-2 2v14c0 1.1.9 2 2 2h14c1.1 0 2-.9 2-2V5c0-1.1-.9-2-2-2zM9 17H7v-7h2v7zm4 0h-2V7h2v10zm4 0h-2v-4h2v4z\"/>\n",
              "    </g>\n",
              "</svg>\n",
              "      </button>\n",
              "\n",
              "<style>\n",
              "  .colab-df-quickchart {\n",
              "      --bg-color: #E8F0FE;\n",
              "      --fill-color: #1967D2;\n",
              "      --hover-bg-color: #E2EBFA;\n",
              "      --hover-fill-color: #174EA6;\n",
              "      --disabled-fill-color: #AAA;\n",
              "      --disabled-bg-color: #DDD;\n",
              "  }\n",
              "\n",
              "  [theme=dark] .colab-df-quickchart {\n",
              "      --bg-color: #3B4455;\n",
              "      --fill-color: #D2E3FC;\n",
              "      --hover-bg-color: #434B5C;\n",
              "      --hover-fill-color: #FFFFFF;\n",
              "      --disabled-bg-color: #3B4455;\n",
              "      --disabled-fill-color: #666;\n",
              "  }\n",
              "\n",
              "  .colab-df-quickchart {\n",
              "    background-color: var(--bg-color);\n",
              "    border: none;\n",
              "    border-radius: 50%;\n",
              "    cursor: pointer;\n",
              "    display: none;\n",
              "    fill: var(--fill-color);\n",
              "    height: 32px;\n",
              "    padding: 0;\n",
              "    width: 32px;\n",
              "  }\n",
              "\n",
              "  .colab-df-quickchart:hover {\n",
              "    background-color: var(--hover-bg-color);\n",
              "    box-shadow: 0 1px 2px rgba(60, 64, 67, 0.3), 0 1px 3px 1px rgba(60, 64, 67, 0.15);\n",
              "    fill: var(--button-hover-fill-color);\n",
              "  }\n",
              "\n",
              "  .colab-df-quickchart-complete:disabled,\n",
              "  .colab-df-quickchart-complete:disabled:hover {\n",
              "    background-color: var(--disabled-bg-color);\n",
              "    fill: var(--disabled-fill-color);\n",
              "    box-shadow: none;\n",
              "  }\n",
              "\n",
              "  .colab-df-spinner {\n",
              "    border: 2px solid var(--fill-color);\n",
              "    border-color: transparent;\n",
              "    border-bottom-color: var(--fill-color);\n",
              "    animation:\n",
              "      spin 1s steps(1) infinite;\n",
              "  }\n",
              "\n",
              "  @keyframes spin {\n",
              "    0% {\n",
              "      border-color: transparent;\n",
              "      border-bottom-color: var(--fill-color);\n",
              "      border-left-color: var(--fill-color);\n",
              "    }\n",
              "    20% {\n",
              "      border-color: transparent;\n",
              "      border-left-color: var(--fill-color);\n",
              "      border-top-color: var(--fill-color);\n",
              "    }\n",
              "    30% {\n",
              "      border-color: transparent;\n",
              "      border-left-color: var(--fill-color);\n",
              "      border-top-color: var(--fill-color);\n",
              "      border-right-color: var(--fill-color);\n",
              "    }\n",
              "    40% {\n",
              "      border-color: transparent;\n",
              "      border-right-color: var(--fill-color);\n",
              "      border-top-color: var(--fill-color);\n",
              "    }\n",
              "    60% {\n",
              "      border-color: transparent;\n",
              "      border-right-color: var(--fill-color);\n",
              "    }\n",
              "    80% {\n",
              "      border-color: transparent;\n",
              "      border-right-color: var(--fill-color);\n",
              "      border-bottom-color: var(--fill-color);\n",
              "    }\n",
              "    90% {\n",
              "      border-color: transparent;\n",
              "      border-bottom-color: var(--fill-color);\n",
              "    }\n",
              "  }\n",
              "</style>\n",
              "\n",
              "      <script>\n",
              "        async function quickchart(key) {\n",
              "          const quickchartButtonEl =\n",
              "            document.querySelector('#' + key + ' button');\n",
              "          quickchartButtonEl.disabled = true;  // To prevent multiple clicks.\n",
              "          quickchartButtonEl.classList.add('colab-df-spinner');\n",
              "          try {\n",
              "            const charts = await google.colab.kernel.invokeFunction(\n",
              "                'suggestCharts', [key], {});\n",
              "          } catch (error) {\n",
              "            console.error('Error during call to suggestCharts:', error);\n",
              "          }\n",
              "          quickchartButtonEl.classList.remove('colab-df-spinner');\n",
              "          quickchartButtonEl.classList.add('colab-df-quickchart-complete');\n",
              "        }\n",
              "        (() => {\n",
              "          let quickchartButtonEl =\n",
              "            document.querySelector('#df-d0bd2802-9eaa-41fb-ac3d-575e58ee00df button');\n",
              "          quickchartButtonEl.style.display =\n",
              "            google.colab.kernel.accessAllowed ? 'block' : 'none';\n",
              "        })();\n",
              "      </script>\n",
              "    </div>\n",
              "\n",
              "    </div>\n",
              "  </div>\n"
            ],
            "application/vnd.google.colaboratory.intrinsic+json": {
              "type": "dataframe",
              "variable_name": "adas"
            }
          },
          "metadata": {},
          "execution_count": 85
        }
      ]
    },
    {
      "cell_type": "markdown",
      "source": [
        "This data set contains information on ADAS crash reports which contains information on the car as well as weather and automation system."
      ],
      "metadata": {
        "id": "gGoAaXFm910M"
      }
    },
    {
      "cell_type": "code",
      "source": [
        "adas.shape"
      ],
      "metadata": {
        "colab": {
          "base_uri": "https://localhost:8080/"
        },
        "id": "ikZWM2B-BAkt",
        "outputId": "6e930d33-fa6d-4b1b-8233-566d4c34bfe1"
      },
      "execution_count": null,
      "outputs": [
        {
          "output_type": "execute_result",
          "data": {
            "text/plain": [
              "(3690, 137)"
            ]
          },
          "metadata": {},
          "execution_count": 86
        }
      ]
    },
    {
      "cell_type": "code",
      "source": [
        "# valuecount the column Automation System Engaged?\n",
        "adas['Automation System Engaged?'].value_counts()"
      ],
      "metadata": {
        "colab": {
          "base_uri": "https://localhost:8080/",
          "height": 209
        },
        "id": "4wDI5sHYBI-A",
        "outputId": "1d82913e-bf9a-40fd-d3ff-092d66522bcc"
      },
      "execution_count": null,
      "outputs": [
        {
          "output_type": "execute_result",
          "data": {
            "text/plain": [
              "Automation System Engaged?\n",
              "ADAS                      3372\n",
              "Unknown, see Narrative     316\n",
              "ADS                          2\n",
              "Name: count, dtype: int64"
            ],
            "text/html": [
              "<div>\n",
              "<style scoped>\n",
              "    .dataframe tbody tr th:only-of-type {\n",
              "        vertical-align: middle;\n",
              "    }\n",
              "\n",
              "    .dataframe tbody tr th {\n",
              "        vertical-align: top;\n",
              "    }\n",
              "\n",
              "    .dataframe thead th {\n",
              "        text-align: right;\n",
              "    }\n",
              "</style>\n",
              "<table border=\"1\" class=\"dataframe\">\n",
              "  <thead>\n",
              "    <tr style=\"text-align: right;\">\n",
              "      <th></th>\n",
              "      <th>count</th>\n",
              "    </tr>\n",
              "    <tr>\n",
              "      <th>Automation System Engaged?</th>\n",
              "      <th></th>\n",
              "    </tr>\n",
              "  </thead>\n",
              "  <tbody>\n",
              "    <tr>\n",
              "      <th>ADAS</th>\n",
              "      <td>3372</td>\n",
              "    </tr>\n",
              "    <tr>\n",
              "      <th>Unknown, see Narrative</th>\n",
              "      <td>316</td>\n",
              "    </tr>\n",
              "    <tr>\n",
              "      <th>ADS</th>\n",
              "      <td>2</td>\n",
              "    </tr>\n",
              "  </tbody>\n",
              "</table>\n",
              "</div><br><label><b>dtype:</b> int64</label>"
            ]
          },
          "metadata": {},
          "execution_count": 87
        }
      ]
    },
    {
      "cell_type": "markdown",
      "source": [
        "# Cleaning"
      ],
      "metadata": {
        "id": "Dpa_JskBAddT"
      }
    },
    {
      "cell_type": "markdown",
      "source": [
        "##### Moving the rows in `ads` that note crashes with adas systems activated to the `adas` dataframe."
      ],
      "metadata": {
        "id": "PC4rXLwJIOFV"
      }
    },
    {
      "cell_type": "code",
      "source": [
        "adas_rows = ads[ads['Automation System Engaged?'] == 'ADAS']\n",
        "ads_rows = adas[adas['Automation System Engaged?'] == 'ADS']\n",
        "\n",
        "\n",
        "ads = ads[ads['Automation System Engaged?'] != 'ADAS']\n",
        "adas = adas[adas['Automation System Engaged?'] != 'ADS']\n",
        "\n",
        "adas = pd.concat([adas, adas_rows], ignore_index=True)\n",
        "ads = pd.concat([ads, ads_rows], ignore_index=True)\n",
        "\n",
        "\n",
        "print(\"Value counts after moving ADAS rows from ads to adas:\")\n",
        "print(\"ADS dataset:\")\n",
        "print(ads['Automation System Engaged?'].value_counts())\n",
        "print(\"\\nADAS dataset:\")\n",
        "print(adas['Automation System Engaged?'].value_counts())"
      ],
      "metadata": {
        "colab": {
          "base_uri": "https://localhost:8080/"
        },
        "id": "NzZgdeH0AbdJ",
        "outputId": "40b17049-5d62-42e2-b287-2fe4d6b0ae42"
      },
      "execution_count": null,
      "outputs": [
        {
          "output_type": "stream",
          "name": "stdout",
          "text": [
            "Value counts after moving ADAS rows from ads to adas:\n",
            "ADS dataset:\n",
            "Automation System Engaged?\n",
            "ADS                       1917\n",
            "Unknown, see Narrative      29\n",
            "Name: count, dtype: int64\n",
            "\n",
            "ADAS dataset:\n",
            "Automation System Engaged?\n",
            "ADAS                      3399\n",
            "Unknown, see Narrative     316\n",
            "Name: count, dtype: int64\n"
          ]
        }
      ]
    },
    {
      "cell_type": "markdown",
      "source": [
        "##### Getting rid of rows that do not specify the type of system engaged at the moment of crash."
      ],
      "metadata": {
        "id": "4lazfY1rI88n"
      }
    },
    {
      "cell_type": "code",
      "source": [
        "ads = ads[ads['Automation System Engaged?'] != 'Unknown, see Narrative']\n",
        "adas = adas[adas['Automation System Engaged?'] != 'Unknown, see Narrative']\n",
        "\n",
        "print(\"Value counts after removal (ADS):\")\n",
        "print(ads['Automation System Engaged?'].value_counts())\n",
        "print(\"\\nValue counts after removal (ADAS):\")\n",
        "print(adas['Automation System Engaged?'].value_counts())"
      ],
      "metadata": {
        "colab": {
          "base_uri": "https://localhost:8080/"
        },
        "id": "LWPrdBfaA1BO",
        "outputId": "2e47e6a2-54e2-4469-a7a5-a8eecdbd2d63"
      },
      "execution_count": null,
      "outputs": [
        {
          "output_type": "stream",
          "name": "stdout",
          "text": [
            "Value counts after removal (ADS):\n",
            "Automation System Engaged?\n",
            "ADS    1917\n",
            "Name: count, dtype: int64\n",
            "\n",
            "Value counts after removal (ADAS):\n",
            "Automation System Engaged?\n",
            "ADAS    3399\n",
            "Name: count, dtype: int64\n"
          ]
        }
      ]
    },
    {
      "cell_type": "markdown",
      "source": [
        "# Results"
      ],
      "metadata": {
        "id": "HKvBi4fFCAtD"
      }
    },
    {
      "cell_type": "markdown",
      "source": [
        "# EDA"
      ],
      "metadata": {
        "id": "Z3nT3my-8e37"
      }
    },
    {
      "cell_type": "markdown",
      "source": [
        "## Weather"
      ],
      "metadata": {
        "id": "7cjeXCkPA226"
      }
    },
    {
      "cell_type": "markdown",
      "source": [
        "##### Storing the weather condition columns in `weather_columns` ."
      ],
      "metadata": {
        "id": "czYVyKD6JcEr"
      }
    },
    {
      "cell_type": "code",
      "source": [
        "weather_columns = [\n",
        "    'Weather - Clear',\n",
        "    'Weather - Snow',\n",
        "    'Weather - Cloudy',\n",
        "    'Weather - Fog/Smoke',\n",
        "    'Weather - Rain',\n",
        "    'Weather - Severe Wind',\n",
        "    'Weather - Unknown',\n",
        "    'Weather - Other'\n",
        "]\n"
      ],
      "metadata": {
        "id": "CAUAejC2QMg0"
      },
      "execution_count": null,
      "outputs": []
    },
    {
      "cell_type": "markdown",
      "source": [
        "##### Analyzing the number of incidents in the `ads` and `adas` dataframes based on weather conditions."
      ],
      "metadata": {
        "id": "-oteZANrJt9v"
      }
    },
    {
      "cell_type": "code",
      "source": [
        "\n",
        "ads_weather_counts = ads[weather_columns].apply(lambda x: (x == 'Y').sum())\n",
        "adas_weather_counts = adas[weather_columns].apply(lambda x: (x == 'Y').sum())\n",
        "\n",
        "total_weather_counts = ads_weather_counts + adas_weather_counts\n",
        "\n",
        "ads_weather_counts_series = pd.Series(ads_weather_counts, name='ADS Incidents')\n",
        "adas_weather_counts_series = pd.Series(adas_weather_counts, name='ADAS Incidents')\n",
        "total_weather_counts_series = pd.Series(total_weather_counts, name='Total Incidents')\n",
        "\n",
        "print(\"--- Incident Counts by Weather Condition ---\")\n",
        "print(\"\\nADS Only:\")\n",
        "print(ads_weather_counts_series.sort_values(ascending=False))\n",
        "\n",
        "print(\"\\nADAS Only:\")\n",
        "print(adas_weather_counts_series.sort_values(ascending=False))\n",
        "\n",
        "print(\"\\nADS + ADAS Combined:\")\n",
        "print(total_weather_counts_series.sort_values(ascending=False))\n"
      ],
      "metadata": {
        "id": "weeXThdMX6l_",
        "colab": {
          "base_uri": "https://localhost:8080/"
        },
        "outputId": "15e53a82-dbbc-4ff5-a9df-55fbbd79ae9b"
      },
      "execution_count": null,
      "outputs": [
        {
          "output_type": "stream",
          "name": "stdout",
          "text": [
            "--- Incident Counts by Weather Condition ---\n",
            "\n",
            "ADS Only:\n",
            "Weather - Clear          1534\n",
            "Weather - Cloudy          289\n",
            "Weather - Rain             69\n",
            "Weather - Unknown          30\n",
            "Weather - Fog/Smoke         3\n",
            "Weather - Snow              1\n",
            "Weather - Other             1\n",
            "Weather - Severe Wind       0\n",
            "Name: ADS Incidents, dtype: int64\n",
            "\n",
            "ADAS Only:\n",
            "Weather - Unknown        1550\n",
            "Weather - Clear          1194\n",
            "Weather - Cloudy          520\n",
            "Weather - Rain            272\n",
            "Weather - Other            53\n",
            "Weather - Snow             15\n",
            "Weather - Fog/Smoke        14\n",
            "Weather - Severe Wind       0\n",
            "Name: ADAS Incidents, dtype: int64\n",
            "\n",
            "ADS + ADAS Combined:\n",
            "Weather - Clear          2728\n",
            "Weather - Unknown        1580\n",
            "Weather - Cloudy          809\n",
            "Weather - Rain            341\n",
            "Weather - Other            54\n",
            "Weather - Fog/Smoke        17\n",
            "Weather - Snow             16\n",
            "Weather - Severe Wind       0\n",
            "Name: Total Incidents, dtype: int64\n"
          ]
        }
      ]
    },
    {
      "cell_type": "markdown",
      "source": [
        "##### Visualizing the total number of incident reports by weather condition using a bar chart."
      ],
      "metadata": {
        "id": "Rw8uRMbpKzAQ"
      }
    },
    {
      "cell_type": "code",
      "source": [
        "\n",
        "\n",
        "plot_labels = [col.replace('Weather - ', '').replace('/', ' & ') for col in total_weather_counts_series.index]\n",
        "plot_values = total_weather_counts_series.values\n",
        "\n",
        "plt.figure(figsize=(10, 6))\n",
        "plt.bar(plot_labels, plot_values, color='skyblue')\n",
        "\n",
        "plt.title('Total Number of Incident Reports by Weather Condition (ADS + ADAS)')\n",
        "plt.xlabel('Weather Condition')\n",
        "plt.ylabel('Number of Reports')\n",
        "plt.xticks(rotation=45, ha='right')\n",
        "plt.grid(axis='y', linestyle='--', alpha=0.7)\n",
        "plt.tight_layout()\n",
        "plt.show()\n"
      ],
      "metadata": {
        "colab": {
          "base_uri": "https://localhost:8080/",
          "height": 607
        },
        "id": "1YdloXUvjZfS",
        "outputId": "2da72066-1ff0-41c8-ed57-a2c23e6adaad"
      },
      "execution_count": null,
      "outputs": [
        {
          "output_type": "display_data",
          "data": {
            "text/plain": [
              "<Figure size 1000x600 with 1 Axes>"
            ],
            "image/png": "[encoded data removed]"
          },
          "metadata": {}
        }
      ]
    },
    {
      "cell_type": "markdown",
      "source": [
        "**Analysis**: *We analyzed the number of incidents under certain weather conditions to analyze the relationship between autonomous vehicle crashes and the number of incidents under clear weather conditions versus unsafe ones. Our results show that the most crashes occurred more frequently during clear weather conditions compared to unsafe weather conditions. Although these findings contradict our hypothesis, we think this may be due to exposure bias, as autonomous vehicles drive more frequently in clear conditions compared to others.*"
      ],
      "metadata": {
        "id": "WHvpTFFjleHh"
      }
    },
    {
      "cell_type": "markdown",
      "source": [
        "##### Calculating and visualizing the proportion of total crashes by weather condition using a bar chart."
      ],
      "metadata": {
        "id": "M_6Tmu1jNWQw"
      }
    },
    {
      "cell_type": "code",
      "source": [
        "\n",
        "grand_total_weather = total_weather_counts_series.sum()\n",
        "\n",
        "proportions_total = total_weather_counts_series / grand_total_weather if grand_total_weather > 0 else pd.Series(0, index=weather_columns)\n",
        "\n",
        "proportions_total = proportions_total.sort_values(ascending=False)\n",
        "\n",
        "plot_labels_prop_total = [col.replace('Weather - ', '').replace('/', ' & ') for col in proportions_total.index]\n",
        "plot_values_prop_total = proportions_total.values\n",
        "\n",
        "plt.figure(figsize=(10, 6))\n",
        "plt.bar(plot_labels_prop_total, plot_values_prop_total, color='lightcoral')\n",
        "\n",
        "plt.ylabel('Proportion of Total Crashes')\n",
        "plt.title('Proportion of Total Crashes by Weather Condition (ADS + ADAS Combined)')\n",
        "plt.xticks(rotation=45, ha=\"right\")\n",
        "plt.grid(axis='y', linestyle='--', alpha=0.7)\n",
        "plt.tight_layout()\n",
        "plt.show()"
      ],
      "metadata": {
        "colab": {
          "base_uri": "https://localhost:8080/",
          "height": 607
        },
        "id": "cyrxKDC4QZYd",
        "outputId": "c15dd4eb-ca45-44a9-d944-6de9011cca91"
      },
      "execution_count": null,
      "outputs": [
        {
          "output_type": "display_data",
          "data": {
            "text/plain": [
              "<Figure size 1000x600 with 1 Axes>"
            ],
            "image/png": "[encoded data removed]"
          },
          "metadata": {}
        }
      ]
    },
    {
      "cell_type": "markdown",
      "source": [
        "**Analysis**: *This histogram aligns with our first one, which determines that the most commmon weather pattern for assited driving car crashes is clear conditions.*"
      ],
      "metadata": {
        "id": "Mp8DTtDH-Ioq"
      }
    },
    {
      "cell_type": "markdown",
      "source": [
        "##### Comparing the number of incident reports for ADS and ADAS systems across different weather conditions using a grouped bar chart"
      ],
      "metadata": {
        "id": "udgCrrpzNlEY"
      }
    },
    {
      "cell_type": "code",
      "source": [
        "comparison_df = pd.DataFrame({\n",
        "    'ADS': ads_weather_counts_series,\n",
        "    'ADAS': adas_weather_counts_series\n",
        "})\n",
        "\n",
        "comparison_df['Total'] = comparison_df['ADS'] + comparison_df['ADAS']\n",
        "comparison_df = comparison_df.sort_values(by='Total', ascending=False).drop(columns='Total')\n",
        "\n",
        "labels = [col.replace('Weather - ', '').replace('/', ' & ') for col in comparison_df.index]\n",
        "ads_vals = comparison_df['ADS'].values\n",
        "adas_vals = comparison_df['ADAS'].values\n",
        "\n",
        "x = np.arange(len(labels))\n",
        "width = 0.35\n",
        "\n",
        "plt.figure(figsize=(12, 7))\n",
        "plt.bar(x - width/2, ads_vals, width, label='ADS', alpha=0.8)\n",
        "plt.bar(x + width/2, adas_vals, width, label='ADAS', alpha=0.8)\n",
        "\n",
        "plt.xlabel('Weather Condition')\n",
        "plt.ylabel('Number of Reports')\n",
        "plt.title('Incident Reports by Weather Condition: ADS vs ADAS')\n",
        "plt.xticks(x, labels, rotation=45, ha='right')\n",
        "plt.legend()\n",
        "plt.grid(axis='y', linestyle='--', alpha=0.7)\n",
        "plt.tight_layout()\n",
        "plt.show()\n"
      ],
      "metadata": {
        "colab": {
          "base_uri": "https://localhost:8080/",
          "height": 707
        },
        "id": "sj_d1SZoVXom",
        "outputId": "a19ca701-5094-40fc-fbc1-4225eac4dd43"
      },
      "execution_count": null,
      "outputs": [
        {
          "output_type": "display_data",
          "data": {
            "text/plain": [
              "<Figure size 1200x700 with 1 Axes>"
            ],
            "image/png": "[encoded data removed]"
          },
          "metadata": {}
        }
      ]
    },
    {
      "cell_type": "markdown",
      "source": [
        "**Analysis**: *Clear weather is the most common type of weather reported during a collision, but since this is not a proportional finding, this is most likely due to clear weather being more common than extreme weather day-to-day. Furthermore, ADS crashes were reported more frequently.*"
      ],
      "metadata": {
        "id": "S88QHYqqdM-6"
      }
    },
    {
      "cell_type": "markdown",
      "source": [
        "##### Calculating and visualizing the *proportion* of incident reports for ADS and ADAS systems across different weather conditions, also using a grouped bar chart. This differs from the previous plot which showed the raw counts."
      ],
      "metadata": {
        "id": "Oaty3pjLN2i5"
      }
    },
    {
      "cell_type": "code",
      "source": [
        "total_ads_incidents = ads_weather_counts_series.sum()\n",
        "total_adas_incidents = adas_weather_counts_series.sum()\n",
        "\n",
        "proportions_ads = (ads_weather_counts_series / total_ads_incidents) if total_ads_incidents > 0 else pd.Series(0.0, index=weather_columns)\n",
        "proportions_adas = (adas_weather_counts_series / total_adas_incidents) if total_adas_incidents > 0 else pd.Series(0.0, index=weather_columns)\n",
        "\n",
        "proportions_df = pd.DataFrame({\n",
        "    'ADS Proportion': proportions_ads,\n",
        "    'ADAS Proportion': proportions_adas\n",
        "})\n",
        "\n",
        "proportions_df = proportions_df.sort_values(by='ADS Proportion', ascending=False)\n",
        "\n",
        "labels_prop = [col.replace('Weather - ', '').replace('/', ' & ') for col in proportions_df.index]\n",
        "ads_prop_vals = proportions_df['ADS Proportion'].values\n",
        "adas_prop_vals = proportions_df['ADAS Proportion'].values\n",
        "\n",
        "x_prop = np.arange(len(labels_prop))\n",
        "width = 0.35\n",
        "\n",
        "plt.figure(figsize=(12, 7))\n",
        "plt.bar(x_prop - width/2, ads_prop_vals, width, label='ADS Proportion', alpha=0.7)\n",
        "plt.bar(x_prop + width/2, adas_prop_vals, width, label='ADAS Proportion', alpha=0.7)\n",
        "\n",
        "plt.xlabel('Weather Condition')\n",
        "plt.ylabel('Proportion of Reports')\n",
        "plt.title('Proportion of Incident Reports by Weather Condition: ADS vs ADAS')\n",
        "plt.xticks(x_prop, labels_prop, rotation=45, ha='right')\n",
        "plt.legend()\n",
        "plt.grid(axis='y', linestyle='--', alpha=0.7)\n",
        "plt.tight_layout()\n",
        "plt.show()"
      ],
      "metadata": {
        "colab": {
          "base_uri": "https://localhost:8080/",
          "height": 707
        },
        "id": "JotsvxcqPfm3",
        "outputId": "2de7f46e-29a4-4349-a0fa-750e6ff434e2"
      },
      "execution_count": null,
      "outputs": [
        {
          "output_type": "display_data",
          "data": {
            "text/plain": [
              "<Figure size 1200x700 with 1 Axes>"
            ],
            "image/png": "[encoded data removed]"
          },
          "metadata": {}
        }
      ]
    },
    {
      "cell_type": "markdown",
      "source": [
        "**Analysis**: *After separating ADS and ADAS data in the first dataset, we found that there is not much of a difference in weather type between ADS and ADAS collisions besides many more cases of unknown weather in ADAS collisions.*"
      ],
      "metadata": {
        "id": "wTlAHwUhWEFq"
      }
    },
    {
      "cell_type": "code",
      "source": [
        "\n",
        "ads['Automation System Engaged?'] = ads['Automation System Engaged?'].astype(str).str.strip().str.upper()\n"
      ],
      "metadata": {
        "id": "0tEDRwLcKEix"
      },
      "execution_count": null,
      "outputs": []
    },
    {
      "cell_type": "markdown",
      "source": [
        "## MAKE"
      ],
      "metadata": {
        "id": "q4pHqkTxFPkz"
      }
    },
    {
      "cell_type": "markdown",
      "source": [
        "##### Checking the value count of the make of cars."
      ],
      "metadata": {
        "id": "PBGAhnBmUGtu"
      }
    },
    {
      "cell_type": "code",
      "source": [
        "\n",
        "print(\"Value counts for 'Make' in ADS dataset:\")\n",
        "print(ads['Make'].value_counts())\n",
        "print(\"\\nValue counts for 'Make' in ADAS dataset:\")\n",
        "print(adas['Make'].value_counts())\n"
      ],
      "metadata": {
        "id": "kWDJ9-ZQ96M5",
        "colab": {
          "base_uri": "https://localhost:8080/"
        },
        "outputId": "5cbbf072-c2d1-46d9-acef-4280275823a0"
      },
      "execution_count": null,
      "outputs": [
        {
          "output_type": "stream",
          "name": "stdout",
          "text": [
            "Value counts for 'Make' in ADS dataset:\n",
            "Make\n",
            "Jaguar                     1061\n",
            "Cruise                      393\n",
            "Toyota                      124\n",
            "JLR                          62\n",
            "Ford                         50\n",
            "Peterbilt                    47\n",
            "Hyundai                      38\n",
            "Chrysler                     28\n",
            "Lexus                        14\n",
            "Chevrolet                    11\n",
            "Volkswagen                   10\n",
            "Mercedes-Benz                 8\n",
            "Kenworth Motor Truck Co       8\n",
            "Navya                         8\n",
            "Kenworth                      7\n",
            "Nissan                        7\n",
            "EZ10                          6\n",
            "Zoox                          5\n",
            "FREIGHTLINER                  5\n",
            "Local Motors                  4\n",
            "Jaquar                        3\n",
            "Freightliner                  3\n",
            "EQS                           2\n",
            "Tesla                         2\n",
            "Ligier                        2\n",
            "Lincoln                       2\n",
            "Local Motors (LOCM)           1\n",
            "NISSAN                        1\n",
            "KENWORTH                      1\n",
            "Crui9se                       1\n",
            "LExus                         1\n",
            "Ligier Group                  1\n",
            "NAVYA                         1\n",
            "OLLI                          1\n",
            "Name: count, dtype: int64\n",
            "\n",
            "Value counts for 'Make' in ADAS dataset:\n",
            "Make\n",
            "Tesla            2822\n",
            "Subaru            121\n",
            "Ford               47\n",
            "Toyota             45\n",
            "Nissan             34\n",
            "Honda              32\n",
            "Lucid              29\n",
            "Mercedes-Benz      26\n",
            "BMW                23\n",
            "Cadillac           23\n",
            "Hyundai            22\n",
            "Chevrolet          21\n",
            "GMC                17\n",
            "KIA                15\n",
            "Rivian             11\n",
            "Jeep               10\n",
            "Kia                10\n",
            "Lexus               9\n",
            "Acura               8\n",
            "FREIGHTLINER        7\n",
            "Volkswagen          7\n",
            "Porsche             6\n",
            "HYUNDAI             6\n",
            "LUCID               6\n",
            "HONDA               5\n",
            "Volvo               5\n",
            "LUCID AIR           4\n",
            "Lucid Motors        4\n",
            "Polestar            3\n",
            "Jaguar              3\n",
            "Vinfast             3\n",
            "MAZDA               2\n",
            "ACURA               2\n",
            "Lincoln             2\n",
            "Freightliner        2\n",
            "Buick               1\n",
            "Dodge               1\n",
            "International       1\n",
            "Audi                1\n",
            "Genesis             1\n",
            "Peterbilt           1\n",
            "Cruise              1\n",
            "Name: count, dtype: int64\n"
          ]
        }
      ]
    },
    {
      "cell_type": "markdown",
      "source": [
        "##### Visualizing the top 98% of makes of reported in total."
      ],
      "metadata": {
        "id": "t0mnGbKrTf4V"
      }
    },
    {
      "cell_type": "code",
      "source": [
        "\n",
        "combined_makes = pd.concat([ads['Make'], adas['Make']], ignore_index=True)\n",
        "\n",
        "make_counts = combined_makes.value_counts()\n",
        "\n",
        "total_makes = make_counts.sum()\n",
        "make_proportions = make_counts / total_makes\n",
        "\n",
        "significant_makes = make_proportions[make_proportions > 0.02]\n",
        "\n",
        "if not significant_makes.empty:\n",
        "    plt.figure(figsize=(10, 8), facecolor='beige')\n",
        "    plt.pie(significant_makes, labels=significant_makes.index, autopct='%1.1f%%', startangle=140)\n",
        "    plt.title('Proportion of Significant Car Makes (>2%) in Combined ADS and ADAS Crashes')\n",
        "    plt.axis('equal')\n",
        "    plt.show()\n",
        "else:\n",
        "    print(\"No car makes represent more than 2% in the combined dataset.\")"
      ],
      "metadata": {
        "colab": {
          "base_uri": "https://localhost:8080/",
          "height": 675
        },
        "id": "HraclINxOWTL",
        "outputId": "855678fb-177d-4d17-dcab-8e88a0229bc1"
      },
      "execution_count": null,
      "outputs": [
        {
          "output_type": "display_data",
          "data": {
            "text/plain": [
              "<Figure size 1000x800 with 1 Axes>"
            ],
            "image/png": "[encoded data removed]"
          },
          "metadata": {}
        }
      ]
    },
    {
      "cell_type": "markdown",
      "source": [
        "**Analysis:** *Analyzing the top 98% of makes that made it into the dataframes we can establish that our hypothesis about Tesla being the most common car to crash is only partly true-- while Tesla makes up 61.8% of ADS and ADAS crashes in both datasets, this is primarily from ADAS crashes, as there were only 2 Tesla crashes reported using ADS systems in our data.*"
      ],
      "metadata": {
        "id": "5Hhzy0BFQxDW"
      }
    },
    {
      "cell_type": "markdown",
      "source": [
        "## Time"
      ],
      "metadata": {
        "id": "vcWIsjAmCm4g"
      }
    },
    {
      "cell_type": "markdown",
      "source": [
        "##### Creating a function to `catagorize_time` so that it can be read in a 12 hour system and visualizing a total number of crash report by incident time."
      ],
      "metadata": {
        "id": "-OWUdtxECyPx"
      }
    },
    {
      "cell_type": "code",
      "source": [
        "combined_df = pd.concat([ads, adas], ignore_index=True)\n",
        "\n",
        "combined_df['Incident Time (24:00)'] = combined_df['Incident Time (24:00)'].astype(str).str.strip()\n",
        "\n",
        "combined_df['Incident Time (24:00)_dt'] = pd.to_datetime(combined_df['Incident Time (24:00)'], format='%H:%M', errors='coerce')\n",
        "\n",
        "combined_df.dropna(subset=['Incident Time (24:00)_dt'], inplace=True)\n",
        "\n",
        "def categorize_time(time_obj):\n",
        "    \"\"\"\n",
        "    Categorizes a datetime.time object into predefined time ranges.\n",
        "    Assumes time_obj is already a valid datetime.time object or NaT.\n",
        "    \"\"\"\n",
        "    if pd.isna(time_obj):\n",
        "        return 'Unknown'\n",
        "\n",
        "    hour = time_obj.hour\n",
        "\n",
        "    if 0 <= hour < 6:\n",
        "        return '12am - 6am'\n",
        "    elif 6 <= hour < 12:\n",
        "        return '6am - 12pm'\n",
        "    elif 12 <= hour < 18:\n",
        "        return '12pm - 6pm'\n",
        "    elif 18 <= hour < 24:\n",
        "        return '6pm - 12am'\n",
        "    else:\n",
        "        return 'Unknown'\n",
        "\n",
        "combined_df['Time Category'] = combined_df['Incident Time (24:00)_dt'].apply(lambda x: categorize_time(x.time()))\n",
        "\n",
        "\n",
        "time_category_counts = combined_df['Time Category'].value_counts()\n",
        "\n",
        "print(\"\\nDistribution of Incidents by Time Category:\")\n",
        "print(time_category_counts)\n",
        "\n",
        "plt.figure(figsize=(8, 6))\n",
        "time_category_counts.plot(kind='bar', color='teal')\n",
        "plt.title('Number of Incident Reports by Time of Day')\n",
        "plt.xlabel('Time Category')\n",
        "plt.ylabel('Number of Reports')\n",
        "plt.xticks(rotation=45, ha='right')\n",
        "plt.grid(axis='y', linestyle='--', alpha=0.7)\n",
        "plt.tight_layout()\n",
        "plt.show()\n"
      ],
      "metadata": {
        "colab": {
          "base_uri": "https://localhost:8080/",
          "height": 746
        },
        "id": "C6fs341SDF1Y",
        "outputId": "c865404b-b794-43f7-b299-eba5881c6ecf"
      },
      "execution_count": null,
      "outputs": [
        {
          "output_type": "stream",
          "name": "stdout",
          "text": [
            "\n",
            "Distribution of Incidents by Time Category:\n",
            "Time Category\n",
            "12pm - 6pm    1547\n",
            "6pm - 12am    1427\n",
            "6am - 12pm    1111\n",
            "12am - 6am    1066\n",
            "Name: count, dtype: int64\n"
          ]
        },
        {
          "output_type": "display_data",
          "data": {
            "text/plain": [
              "<Figure size 800x600 with 1 Axes>"
            ],
            "image/png": "[encoded data removed]"
          },
          "metadata": {}
        }
      ]
    },
    {
      "cell_type": "markdown",
      "source": [
        "**Analysis**: *The combined report times visualized counter our hypothesis that more crashes will occur at night. Collisions seem to be most common between 12pm and 6pm. This includes evening rush hour, and could be explained by the presence of not only more tired and impaired drivers on the road, but more drivers in general.*"
      ],
      "metadata": {
        "id": "7Yi1ine4P_C3"
      }
    },
    {
      "cell_type": "markdown",
      "source": [
        "##### Comparing the proportions of the times periods reported of the 2 assistive systems."
      ],
      "metadata": {
        "id": "EGH_wVISPkNP"
      }
    },
    {
      "cell_type": "code",
      "source": [
        "\n",
        "ads_filtered = combined_df[combined_df['Automation System Engaged?'] == 'ADS'].copy()\n",
        "adas_filtered = combined_df[combined_df['Automation System Engaged?'] == 'ADAS'].copy()\n",
        "\n",
        "ads_filtered['Time Category'] = ads_filtered['Incident Time (24:00)_dt'].apply(lambda x: categorize_time(x.time()))\n",
        "adas_filtered['Time Category'] = adas_filtered['Incident Time (24:00)_dt'].apply(lambda x: categorize_time(x.time()))\n",
        "\n",
        "ads_time_counts = ads_filtered['Time Category'].value_counts()\n",
        "adas_time_counts = adas_filtered['Time Category'].value_counts()\n",
        "\n",
        "if 'Unknown' in ads_time_counts.index:\n",
        "    ads_time_counts = ads_time_counts.drop('Unknown')\n",
        "if 'Unknown' in adas_time_counts.index:\n",
        "    adas_time_counts = adas_time_counts.drop('Unknown')\n",
        "\n",
        "total_ads_time = ads_time_counts.sum()\n",
        "total_adas_time = adas_time_counts.sum()\n",
        "\n",
        "ads_time_proportions = (ads_time_counts / total_ads_time) if total_ads_time > 0 else pd.Series(0.0, index=ads_time_counts.index)\n",
        "adas_time_proportions = (adas_time_counts / total_adas_time) if total_adas_time > 0 else pd.Series(0.0, index=adas_time_counts.index)\n",
        "\n",
        "time_proportions_df = pd.DataFrame({\n",
        "    'ADS Proportion': ads_time_proportions,\n",
        "    'ADAS Proportion': adas_time_proportions\n",
        "}).fillna(0)\n",
        "\n",
        "time_order = ['12am - 6am', '6am - 12pm', '12pm - 6pm', '6pm - 12am']\n",
        "time_proportions_df = time_proportions_df.reindex(time_order)\n",
        "\n",
        "labels_time_prop = time_proportions_df.index\n",
        "ads_time_prop_vals = time_proportions_df['ADS Proportion'].values\n",
        "adas_time_prop_vals = time_proportions_df['ADAS Proportion'].values\n",
        "\n",
        "x_time_prop = np.arange(len(labels_time_prop))\n",
        "width = 0.35\n",
        "\n",
        "plt.figure(figsize=(10, 6))\n",
        "plt.bar(x_time_prop - width/2, ads_time_prop_vals, width, label='ADS Proportion', alpha=0.7)\n",
        "plt.bar(x_time_prop + width/2, adas_time_prop_vals, width, label='ADAS Proportion', alpha=0.7)\n",
        "\n",
        "plt.xlabel('Time of Day Category')\n",
        "plt.ylabel('Proportion of Reports')\n",
        "plt.title('Proportion of Incident Reports by Time of Day: ADS vs ADAS (Excluding Unknown)')\n",
        "plt.xticks(x_time_prop, labels_time_prop)\n",
        "plt.legend()\n",
        "plt.grid(axis='y', linestyle='--', alpha=0.7)\n",
        "plt.tight_layout()\n",
        "plt.show()\n"
      ],
      "metadata": {
        "colab": {
          "base_uri": "https://localhost:8080/",
          "height": 607
        },
        "id": "1BwDnzZyMnFd",
        "outputId": "684fae05-7c82-492f-b5a6-258b9a080431"
      },
      "execution_count": null,
      "outputs": [
        {
          "output_type": "display_data",
          "data": {
            "text/plain": [
              "<Figure size 1000x600 with 1 Axes>"
            ],
            "image/png": "[encoded data removed]"
          },
          "metadata": {}
        }
      ]
    },
    {
      "cell_type": "markdown",
      "source": [
        "**Analysis**: *After splitting the ADS and ADAS datasets and comparing their proportions in regards to time of day, it was found that there were more ADS collisions in the afternoon, and more ADAS collisions in the evening and nighttime. Late-night ADAS collisions could be due to driver inattention, other vehicle inattention or inebriation, and poorer lighting conditions at night than at day. The 12am to 6am category having the lowest proportion for ADS collisions make sense as that is the time of day that the least amount of cars are on the road.*"
      ],
      "metadata": {
        "id": "ICClxRHeQ-F-"
      }
    },
    {
      "cell_type": "markdown",
      "source": [
        "## Injury Severity Alleged"
      ],
      "metadata": {
        "id": "eb38DlU_BqG1"
      }
    },
    {
      "cell_type": "code",
      "source": [
        "\n",
        "\n",
        "ads['Highest Injury Severity Alleged'].value_counts()\n"
      ],
      "metadata": {
        "id": "7JBI3QI_wVIX",
        "colab": {
          "base_uri": "https://localhost:8080/",
          "height": 303
        },
        "outputId": "fe7f871e-ef0f-49ea-f241-e88431d17873"
      },
      "execution_count": null,
      "outputs": [
        {
          "output_type": "execute_result",
          "data": {
            "text/plain": [
              "Highest Injury Severity Alleged\n",
              "No Injuries Reported    1579\n",
              "Minor                    179\n",
              "Unknown                   77\n",
              "Moderate                  54\n",
              "Serious                   25\n",
              "Fatality                   4\n",
              "Name: count, dtype: int64"
            ],
            "text/html": [
              "<div>\n",
              "<style scoped>\n",
              "    .dataframe tbody tr th:only-of-type {\n",
              "        vertical-align: middle;\n",
              "    }\n",
              "\n",
              "    .dataframe tbody tr th {\n",
              "        vertical-align: top;\n",
              "    }\n",
              "\n",
              "    .dataframe thead th {\n",
              "        text-align: right;\n",
              "    }\n",
              "</style>\n",
              "<table border=\"1\" class=\"dataframe\">\n",
              "  <thead>\n",
              "    <tr style=\"text-align: right;\">\n",
              "      <th></th>\n",
              "      <th>count</th>\n",
              "    </tr>\n",
              "    <tr>\n",
              "      <th>Highest Injury Severity Alleged</th>\n",
              "      <th></th>\n",
              "    </tr>\n",
              "  </thead>\n",
              "  <tbody>\n",
              "    <tr>\n",
              "      <th>No Injuries Reported</th>\n",
              "      <td>1579</td>\n",
              "    </tr>\n",
              "    <tr>\n",
              "      <th>Minor</th>\n",
              "      <td>179</td>\n",
              "    </tr>\n",
              "    <tr>\n",
              "      <th>Unknown</th>\n",
              "      <td>77</td>\n",
              "    </tr>\n",
              "    <tr>\n",
              "      <th>Moderate</th>\n",
              "      <td>54</td>\n",
              "    </tr>\n",
              "    <tr>\n",
              "      <th>Serious</th>\n",
              "      <td>25</td>\n",
              "    </tr>\n",
              "    <tr>\n",
              "      <th>Fatality</th>\n",
              "      <td>4</td>\n",
              "    </tr>\n",
              "  </tbody>\n",
              "</table>\n",
              "</div><br><label><b>dtype:</b> int64</label>"
            ]
          },
          "metadata": {},
          "execution_count": 101
        }
      ]
    },
    {
      "cell_type": "code",
      "source": [
        "\n",
        "adas['Highest Injury Severity Alleged'].value_counts()"
      ],
      "metadata": {
        "id": "l_thMtkexKzA",
        "colab": {
          "base_uri": "https://localhost:8080/",
          "height": 303
        },
        "outputId": "90ada214-6c50-4404-f91f-03d5e756ea52"
      },
      "execution_count": null,
      "outputs": [
        {
          "output_type": "execute_result",
          "data": {
            "text/plain": [
              "Highest Injury Severity Alleged\n",
              "Unknown                 2789\n",
              "No Injuries Reported     274\n",
              "Minor                    145\n",
              "Fatality                  91\n",
              "Serious                   53\n",
              "Moderate                  47\n",
              "Name: count, dtype: int64"
            ],
            "text/html": [
              "<div>\n",
              "<style scoped>\n",
              "    .dataframe tbody tr th:only-of-type {\n",
              "        vertical-align: middle;\n",
              "    }\n",
              "\n",
              "    .dataframe tbody tr th {\n",
              "        vertical-align: top;\n",
              "    }\n",
              "\n",
              "    .dataframe thead th {\n",
              "        text-align: right;\n",
              "    }\n",
              "</style>\n",
              "<table border=\"1\" class=\"dataframe\">\n",
              "  <thead>\n",
              "    <tr style=\"text-align: right;\">\n",
              "      <th></th>\n",
              "      <th>count</th>\n",
              "    </tr>\n",
              "    <tr>\n",
              "      <th>Highest Injury Severity Alleged</th>\n",
              "      <th></th>\n",
              "    </tr>\n",
              "  </thead>\n",
              "  <tbody>\n",
              "    <tr>\n",
              "      <th>Unknown</th>\n",
              "      <td>2789</td>\n",
              "    </tr>\n",
              "    <tr>\n",
              "      <th>No Injuries Reported</th>\n",
              "      <td>274</td>\n",
              "    </tr>\n",
              "    <tr>\n",
              "      <th>Minor</th>\n",
              "      <td>145</td>\n",
              "    </tr>\n",
              "    <tr>\n",
              "      <th>Fatality</th>\n",
              "      <td>91</td>\n",
              "    </tr>\n",
              "    <tr>\n",
              "      <th>Serious</th>\n",
              "      <td>53</td>\n",
              "    </tr>\n",
              "    <tr>\n",
              "      <th>Moderate</th>\n",
              "      <td>47</td>\n",
              "    </tr>\n",
              "  </tbody>\n",
              "</table>\n",
              "</div><br><label><b>dtype:</b> int64</label>"
            ]
          },
          "metadata": {},
          "execution_count": 102
        }
      ]
    },
    {
      "cell_type": "markdown",
      "source": [
        "##### Comparing and visualizes the proportion of crashes by the \"Highest Injury Severity Alleged\" for both ADS and ADAS systems using a grouped bar chart."
      ],
      "metadata": {
        "id": "JiKzMXxJdmdI"
      }
    },
    {
      "cell_type": "code",
      "source": [
        "\n",
        "injury_counts_ads = ads['Highest Injury Severity Alleged'].value_counts(normalize=True)\n",
        "injury_counts_adas = adas['Highest Injury Severity Alleged'].value_counts(normalize=True)\n",
        "\n",
        "all_severities = injury_counts_ads.index.union(injury_counts_adas.index)\n",
        "injury_proportions = pd.DataFrame({\n",
        "    'ADS': injury_counts_ads.reindex(all_severities, fill_value=0),\n",
        "    'ADAS': injury_counts_adas.reindex(all_severities, fill_value=0)\n",
        "})\n",
        "\n",
        "injury_proportions = injury_proportions.sort_index()\n",
        "\n",
        "x = np.arange(len(injury_proportions.index))\n",
        "width = 0.35\n",
        "\n",
        "fig, ax = plt.subplots(figsize=(14, 7))\n",
        "rects1 = ax.bar(x - width/2, injury_proportions['ADS'], width, label='ADS')\n",
        "rects2 = ax.bar(x + width/2, injury_proportions['ADAS'], width, label='ADAS')\n",
        "\n",
        "ax.set_ylabel('Proportion of Crashes')\n",
        "ax.set_title('Proportion of Crashes by Highest Injury Severity Alleged for ADS and ADAS Systems')\n",
        "ax.set_xticks(x)\n",
        "ax.set_xticklabels(injury_proportions.index, rotation=45, ha=\"right\")\n",
        "ax.legend()\n",
        "\n",
        "plt.tight_layout()\n",
        "plt.show()"
      ],
      "metadata": {
        "id": "pJBByDlgT5VK",
        "colab": {
          "base_uri": "https://localhost:8080/",
          "height": 707
        },
        "outputId": "cfe69c37-e650-4092-e3a3-c87bd3ce4b18"
      },
      "execution_count": null,
      "outputs": [
        {
          "output_type": "display_data",
          "data": {
            "text/plain": [
              "<Figure size 1400x700 with 1 Axes>"
            ],
            "image/png": "[encoded data removed]"
          },
          "metadata": {}
        }
      ]
    },
    {
      "cell_type": "markdown",
      "source": [
        "**Analysis**: *There are more fatalities and serious injuries in ADAS crashes, and more mild/moderate/no injuries in ADS crashes. This is what we hypothesized. It is possible that the ADS crash data included collisions with Waymo vehicles that did not have any passengers in the vehicle at the time of collision, which would make the proportion of injuryless crashes skyrocket. 80% of ADAS crashes have unknown injury level, and it is unclear why this data is missing.*"
      ],
      "metadata": {
        "id": "AhaVPvY_Ye_U"
      }
    },
    {
      "cell_type": "markdown",
      "source": [
        "## Collision Area"
      ],
      "metadata": {
        "id": "5xhYfaOTBgLq"
      }
    },
    {
      "cell_type": "markdown",
      "source": [
        "##### Defining a function to categorize the collision area of incidents and then applies this function to the `ads` and `adas` dataframes to create a new column 'Collision Area'."
      ],
      "metadata": {
        "id": "bJ60JMzZeZ_W"
      }
    },
    {
      "cell_type": "code",
      "source": [
        "\n",
        "def categorize_collision_area(row):\n",
        "\n",
        "    rear_cols = [col for col in row.index if 'Rear' in col and row[col] == 'Y']\n",
        "    if rear_cols:\n",
        "        return 'Rear'\n",
        "\n",
        "    front_cols = [col for col in row.index if 'Front' in col and row[col] == 'Y']\n",
        "    if front_cols:\n",
        "        return 'Front'\n",
        "\n",
        "    side_cols = ['CP Contact Area - Right', 'CP Contact Area - Left']\n",
        "    side_cols_present = [col for col in side_cols if col in row.index]\n",
        "    if any(row[col] == 'Y' for col in side_cols_present):\n",
        "         return 'Sides'\n",
        "\n",
        "    return 'Other'\n",
        "\n",
        "ads['Collision Area'] = ads.apply(categorize_collision_area, axis=1)\n",
        "adas['Collision Area'] = adas.apply(categorize_collision_area, axis=1)\n",
        "\n",
        "print(\"Value counts for 'Collision Area' in ADS dataset:\")\n",
        "print(ads['Collision Area'].value_counts())\n",
        "\n",
        "print(\"\\nValue counts for 'Collision Area' in ADAS dataset:\")\n",
        "print(adas['Collision Area'].value_counts())"
      ],
      "metadata": {
        "id": "VnnrmannS1Hs",
        "colab": {
          "base_uri": "https://localhost:8080/"
        },
        "outputId": "10e5a1c4-f794-434a-9c95-aa55d6b2ba86"
      },
      "execution_count": null,
      "outputs": [
        {
          "output_type": "stream",
          "name": "stdout",
          "text": [
            "Value counts for 'Collision Area' in ADS dataset:\n",
            "Collision Area\n",
            "Rear     1295\n",
            "Front     442\n",
            "Other     132\n",
            "Sides      52\n",
            "Name: count, dtype: int64\n",
            "\n",
            "Value counts for 'Collision Area' in ADAS dataset:\n",
            "Collision Area\n",
            "Other    1747\n",
            "Rear      942\n",
            "Front     708\n",
            "Sides       2\n",
            "Name: count, dtype: int64\n"
          ]
        }
      ]
    },
    {
      "cell_type": "markdown",
      "source": [
        "##### Calculates the total number of crashes for each collision area across both the `ADS` and `ADAS` datasets and then visualizes these counts using a bar chart."
      ],
      "metadata": {
        "id": "v-tibQ67e2xR"
      }
    },
    {
      "cell_type": "code",
      "source": [
        "\n",
        "total_collision_counts = pd.concat([ads['Collision Area'], adas['Collision Area']]).value_counts()\n",
        "\n",
        "plt.figure(figsize=(10, 6))\n",
        "bars = plt.bar(total_collision_counts.index, total_collision_counts.values, color='skyblue')\n",
        "plt.title('Total Number of Crashes by Collision Area (ADS + ADAS)')\n",
        "plt.xlabel('Collision Area')\n",
        "plt.ylabel('Number of Crashes')\n",
        "plt.xticks(rotation=45)\n",
        "plt.tight_layout()\n",
        "plt.show()"
      ],
      "metadata": {
        "colab": {
          "base_uri": "https://localhost:8080/",
          "height": 607
        },
        "id": "J2UDPcv7a5s3",
        "outputId": "a9d37581-e464-4fd7-fca3-29504fed9382"
      },
      "execution_count": null,
      "outputs": [
        {
          "output_type": "display_data",
          "data": {
            "text/plain": [
              "<Figure size 1000x600 with 1 Axes>"
            ],
            "image/png": "[encoded data removed]"
          },
          "metadata": {}
        }
      ]
    },
    {
      "cell_type": "markdown",
      "source": [
        "**Analysis**: *Our hypothesis was partially correct-- rear-end collisions are the most frequent type of collision, but T-bone/side collisions are not at all as common as we thought they would be, in fact, they are significantly less common than any other type of collision.*"
      ],
      "metadata": {
        "id": "SuUYmOhXcL-_"
      }
    },
    {
      "cell_type": "markdown",
      "source": [
        "##### Comparing and visualizing the proportion of crashes by the categorized \"Collision Area\" for both ADS and ADAS systems using a grouped bar chart."
      ],
      "metadata": {
        "id": "1EKApDvXgm-z"
      }
    },
    {
      "cell_type": "code",
      "source": [
        "\n",
        "collision_counts_ads = ads['Collision Area'].value_counts(normalize=True)\n",
        "collision_counts_adas = adas['Collision Area'].value_counts(normalize=True)\n",
        "\n",
        "all_areas = collision_counts_ads.index.union(collision_counts_adas.index)\n",
        "collision_proportions = pd.DataFrame({\n",
        "    'ADS': collision_counts_ads.reindex(all_areas, fill_value=0),\n",
        "    'ADAS': collision_counts_adas.reindex(all_areas, fill_value=0)\n",
        "})\n",
        "\n",
        "collision_proportions = collision_proportions.sort_index()\n",
        "\n",
        "x = np.arange(len(collision_proportions.index))\n",
        "width = 0.35\n",
        "\n",
        "fig, ax = plt.subplots(figsize=(10, 6))\n",
        "rects1 = ax.bar(x - width/2, collision_proportions['ADS'], width, label='ADS')\n",
        "rects2 = ax.bar(x + width/2, collision_proportions['ADAS'], width, label='ADAS')\n",
        "\n",
        "ax.set_ylabel('Proportion of Crashes')\n",
        "ax.set_title('Proportion of Crashes by Collision Area for ADS and ADAS Systems')\n",
        "ax.set_xticks(x)\n",
        "ax.set_xticklabels(collision_proportions.index, rotation=45, ha=\"right\")\n",
        "ax.legend()\n",
        "\n",
        "plt.tight_layout()\n",
        "plt.show()"
      ],
      "metadata": {
        "colab": {
          "base_uri": "https://localhost:8080/",
          "height": 607
        },
        "id": "QVVc9QUDaZ_k",
        "outputId": "e3a1ab7d-ab22-4b44-da5c-063f36bb8631"
      },
      "execution_count": null,
      "outputs": [
        {
          "output_type": "display_data",
          "data": {
            "text/plain": [
              "<Figure size 1000x600 with 1 Axes>"
            ],
            "image/png": "[encoded data removed]"
          },
          "metadata": {}
        }
      ]
    },
    {
      "cell_type": "markdown",
      "source": [
        "**Analysis**: *Rear end collisions are twice as common in ADS collisions than in ADAS collisions, but they are still the second most common type of collision in ADAS collisions. It is not noted what type of collision the \"other\" collision type refers towards-- it may denote collisions that do not include another vehicle. Similarly to some of the other comparisons, there is a high proportion of ADAS data that is missing.*"
      ],
      "metadata": {
        "id": "ymyBtOTgYy-U"
      }
    },
    {
      "cell_type": "markdown",
      "metadata": {
        "id": "ix3qGxFWZIbH"
      },
      "source": [
        "# Ethics & Privacy"
      ]
    },
    {
      "cell_type": "markdown",
      "metadata": {
        "id": "obXSNV3QZIbI"
      },
      "source": [
        "\n",
        "The greatest concern regarding biases is where we source our dataset(s) about car crashes. We need to avoid using datasets from vehicle manufacturers as there may be bias due to manufacturers’ worry about brand image. Manufacturers with assistive and/or self-driving technology may try to skew data to make their cars seem like an incredibly safe option so it would be best to steer clear from using any data from brands which would have a direct tie into the results of our data. Conversely, we need to be careful that our datasets aren’t skewed the opposite direction– for example, we need to make sure that our  “ADS” data isn’t from a biased source that manufactures ADAS vehicles like Tesla, which makes it seem like ADS has more crashes than in reality, due to wanting to create an inaccurate understanding of ADS technology, is purposefully trying to increase ADAS apperance of influence on car crashes. Datasets from insurance companies or public city reports would be the most unbiased sources. Privacy-wise, as long as these datasets do not contain any private information (license plate numbers, legal names of involved parties, home addresses), there should be no issues. If this information is included, however, as long as we remove them in our analyses, there should be no issues.\n",
        "\n",
        "Another issue we should be aware of is how policymakers and companies decied to use and interperet the data we found. Ways we could prevent the misuse of our data are clearly settting the limitations of our data. By pointing out sample bias and inconsistensies in our data, we can try to prevent it from being misinterpreted and used for the wrong reasons. Furthermore, we can share our steps to coming to the conclusions we came to and provide the data we used as well as neutrual graphs.\n",
        "\n",
        "Furthermore, an important thing to consider is our own biases when creating the project. Because none of the group members have expirience with ADS or ADAS vehicles, our hypothesis is based off of previous understandings of and things we have heard about self-driving technology. This may have influenced our decisions when writing our hypothesis on the frequency of crashes etc.\n",
        "\n"
      ]
    },
    {
      "cell_type": "markdown",
      "source": [
        "# Discussion and Conclusion"
      ],
      "metadata": {
        "id": "f0b7IWxV5UKU"
      }
    },
    {
      "cell_type": "markdown",
      "source": [
        "1. What factors (weather, traffic, traffic signage, time of day) most influence crash rates of vehicles with automated driving systems (ADS) or Level 2 advanced driver assistance systems (ADAS)?\n",
        "\n",
        "For the weather factor, we analyzed a total number of 5545 cases. Clear conditions account for the largest share of ADS + ADAS incidents (2728, 49%), followed by Unknown (1,580, 29%), Cloudy (809, 15%), and Rain (341, 6%). All other weather categories (Snow, Fog & Smoke, Other) are below 2% each, and virtually no crashes occur in “Severe Wind.”\n",
        "\n",
        "For the time of day factor, we dvided the day into four quarter of 6 hours each. All cases analyzed showed a good amount of cases in each section, however we saw the most number of crashes happening in the 12PM - 6PM quarter followed by the 6PM - 12AM quarter, implying that the crashes are more prone to happen when there seems to be more traffic on the road.\n",
        "\n",
        "\n",
        "2. Is there a significant difference between crash factors of ADS and ADAS vehicles?\n",
        "\n",
        "Yes, there is a stark distribution in the crash-factor profiling of ADS and ADAS equipped vehicles. Out of the total 1927 crashes reported for ADS vehicles, most cases reported were for Clear weather conditions (1534, 80%). However, for ADAS vehicles, most cases reported were for Unknown weather conditions i.e. 1550 out of the total 3618 cases (~43%). We need to keep in mind that there were far more cases we analyzed for ADAS vehicles compared to ADS equipped vehicles. This suggests either real differences in when systems fail or, more likely, differences in reporting completeness between the two datasets.\n",
        "\n",
        "3. Are there more injuries/deaths tied to ADS or ADAS crashes?\n",
        "\n",
        "According to the data used, ADAS equipped vehicles experience more injuries compared to ADS equipped vehicles. A total of 1918 injuries/fatalities were reported for ADS vehicles while 3399 injuries/fatalities were reported for ADAS vehicles. Most of the injuries reported for ADAS vehicles were unknown, implying from previous conclusions that the ADAS data might not be complete. However, one thing to note is that ADS vehicles have a high percentage of no injuries, implying that it is way safer than ADAS vehicles. Further proving this point, ADAS experienced 91 (~3%) fatalities compared to the 4 (0.3%) fatalities for ADS vehicles.\n",
        "\n",
        "4. What crash contact area is most common (rear ending, T-boning, frontal collision, etc)?\n",
        "\n",
        "A total of 5320 collisions were reported for ADS and ADAS vehicles combined. The most common type of collisions reported were for rear-end collisions (~42%).  ADS vehicles have reported more rear-end collisions as compared to its counterpart ADAS vehicles that report more other type of collisions.\n",
        "\n",
        "\n",
        "5. What make of ADS/ADAS vehicle has the most crashes?\n",
        "\n",
        "According to the pie-chart plotted above, most amount of crashes combined for ADS/ADAS vehicles was of the make Tesla, which accounted for 61.8% of total car crashes reported. However, this is primarily from ADAS crashes, as only 2 crashes in the ADS dataset were of the make Tesla. The most common make for ADS crashes was Jaguar, from the driverless taxi service Waymo.\n",
        "\n",
        "6. Overall\n",
        "\n",
        "In conclusion, fully automated (ADS) crashes are generally less severe and cause fewer fatalities than Level-2 assist (ADAS) incidents, even after controlling for reporting gaps.  However, it is challenging to establish definitive safety rankings due to the vast number of \"Unknown\" categories in ADAS data and the unequal exposure.  Going forward, identifying real performance disparities and guiding automated driving toward ever-safer roads will require exposure-normalized measurements, unified reporting standards, and more context on traffic and road conditions. There also needs to be more emphasis on how these softwares work around manual drivers because even though this is something that might be leading to the future, the software needs to be adept enough to be able to account for the human certainity aka the human drivers on the road, which is currently lacking as indicated by the higher amount of crashes during rush hours of the day. There need to be more programming simulation to work on these softwares with the human uncertainity factor on roads.\n",
        "\n",
        "Furthermore, in order for safety improvements to be implemented quickly and widely, our industry requires a strong, real-time feedback loop integrated into every vehicle. For instance, we learned from Tesla's early push toward full self-drive that even the most sophisticated ADS can backfire in the absence of clear driver engagement metrics. Their Autopilot allowed drivers to remove their hands entirely from the wheel, which not only led to high-profile crashes but also drew sharp criticism from regulators, safety advocates, and the broader community. People saw videos of Teslas steering into barriers or failing to detect stopped emergency vehicles, and the backlash underscored the danger of releasing systems without clear engagement checks. As a result, the business refocused on improving ADAS features that inform drivers when it notices them not paying attention, and keeps them accountable. The current lack of an open standard for that feedback means that improvements, like improved sensor calibration or improved lane-keep algorithms, could be implemented across all brands, not just one, if automakers agreed on a single data format and safety protocol. Similar to Volvo's decision to give up the seat-belt patent in 1959, we do not need identical automobiles, but we do need public data repositories and common safety benchmarks so that all manufacturers may profit from each innovation and work together to create genuinely safer roads."
      ],
      "metadata": {
        "id": "OvI6Mqh15XK_"
      }
    },
    {
      "cell_type": "markdown",
      "source": [
        "# Team Contributions"
      ],
      "metadata": {
        "id": "WJrkDqQg4CN6"
      }
    },
    {
      "cell_type": "markdown",
      "source": [
        "Lynda Hasman - Responsible for the ethics and privacy section as well as EDA for dataset 1. Oversaw the technical part of the project.\n",
        "\n",
        "Lili Olah - Drafted the research question and hypothesis, expanded upon and polished background & previous studies section, and assisted in analysis of graphs and data. Edited together final video + voiceover based on others' script.\n",
        "\n",
        "Farhan Khan - Completed most of the code and data cleaning, as well as in the analysis and graphs of one of the data sets.\n",
        "\n",
        "Ketan Jain - Found articles of previous studies and drafted the conclusion of the research. Also polished the final version and updated the time aspect of the study."
      ],
      "metadata": {
        "id": "1gZ7gKqS4oE0"
      }
    }
  ],
  "metadata": {
    "kernelspec": {
      "display_name": "Python 3 (ipykernel)",
      "language": "python",
      "name": "python3"
    },
    "language_info": {
      "codemirror_mode": {
        "name": "ipython",
        "version": 3
      },
      "file_extension": ".py",
      "mimetype": "text/x-python",
      "name": "python",
      "nbconvert_exporter": "python",
      "pygments_lexer": "ipython3",
      "version": "3.9.7"
    },
    "colab": {
      "provenance": [],
      "include_colab_link": true
    }
  },
  "nbformat": 4,
  "nbformat_minor": 0
}